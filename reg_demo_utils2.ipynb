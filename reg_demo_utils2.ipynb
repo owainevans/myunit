{
 "metadata": {
  "name": ""
 },
 "nbformat": 3,
 "nbformat_minor": 0,
 "worksheets": [
  {
   "cells": [
    {
     "cell_type": "code",
     "collapsed": false,
     "input": [
      "from venture.venturemagics.ip_parallel import *\n",
      "from reg_demo_utils import *\n",
      "from reg_demo_utils_test import *\n",
      "clear_all_engines(); lite=False\n",
      "%load_ext autoreload\n",
      "%autoreload 2"
     ],
     "language": "python",
     "metadata": {},
     "outputs": []
    },
    {
     "cell_type": "code",
     "collapsed": false,
     "input": [
      "%%px\n",
      "def get_name(r_mr):\n",
      "    try:\n",
      "        r_mr.dview; mr=1\n",
      "    except:\n",
      "        mr=0\n",
      "    di_l = r_mr.list_directives()[0] if mr else r_mr.list_directives()\n",
      "    if 'model_name' in str(di_l):\n",
      "        try:\n",
      "            n = r_mr.sample('model_name')[0] if mr else r_mr.sample('model_name')\n",
      "            return n\n",
      "        except: pass\n",
      "    else:\n",
      "        return 'anon model'\n",
      "    \n",
      "    \n",
      "import numpy as np    \n",
      "from scipy.stats import kde\n",
      "\n",
      "def heatplot(n2array,nbins=100):\n",
      "    \"\"\"Input is an nx2 array, plots graph and returns xi,yi,zi for colormesh\"\"\" \n",
      "    x, y = n2array.T\n",
      "    k = kde.gaussian_kde(n2array.T)\n",
      "    xi, yi = np.mgrid[x.min():x.max():nbins*1j, y.min():y.max():nbins*1j]\n",
      "    zi = k(np.vstack([xi.flatten(), yi.flatten()]))\n",
      "    # plot ax.pcolormesh(xi, yi, zi.reshape(xi.shape))\n",
      "    return (xi, yi, zi.reshape(xi.shape))\n",
      "\n",
      "def if_lst_flatten(l):\n",
      "    if type(l[0])==list: return [el for subl in l for el in subl]\n",
      "    return l"
     ],
     "language": "python",
     "metadata": {},
     "outputs": []
    }
   ],
   "metadata": {}
  }
 ]
}