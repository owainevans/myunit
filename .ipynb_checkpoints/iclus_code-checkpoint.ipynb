{
 "metadata": {
  "name": ""
 },
 "nbformat": 3,
 "nbformat_minor": 0,
 "worksheets": [
  {
   "cells": [
    {
     "cell_type": "code",
     "collapsed": false,
     "input": [
      "from IPython.parallel import Client\n",
      "from venture.shortcuts import *\n",
      "import numpy as np\n",
      "import time\n",
      "\n",
      "\n",
      "copy_ripl_string=\"\"\"\n",
      "def build_exp(exp):\n",
      "    'Take expression from directive_list and build the Lisp string'\n",
      "    if type(exp)==str:\n",
      "        return exp\n",
      "    elif type(exp)==dict:\n",
      "        return str(exp['value'])\n",
      "    else:\n",
      "        return '('+str(exp[0])+' ' + ' '.join(map(build_exp,exp[1:])) + ')'\n",
      "\n",
      "def run_py_directive(ripl,d):\n",
      "    'Removes labels'\n",
      "    if d['instruction']=='assume':\n",
      "        ripl.assume( d['symbol'], build_exp(d['expression']) )\n",
      "    elif d['instruction']=='observe':\n",
      "        ripl.observe( build_exp(d['expression']), d['value'] )\n",
      "    elif d['instruction']=='predict':\n",
      "        ripl.predict( build_exp(d['expression']) )\n",
      "    \n",
      "def copy_ripl(ripl,seed=None):\n",
      "    '''copies ripl via di_list to fresh ripl, preserve directive_id\n",
      "    by preserving order, optionally set_seed'''\n",
      "    di_list = ripl.list_directives()\n",
      "    new_ripl = make_church_prime_ripl()\n",
      "    if seed: new_ripl.set_seed(seed)\n",
      "    [run_py_directive(new_ripl,di) for di in di_list]\n",
      "    return new_ripl\n",
      "\"\"\""
     ],
     "language": "python",
     "metadata": {},
     "outputs": [],
     "prompt_number": 1
    },
    {
     "cell_type": "code",
     "collapsed": false,
     "input": [
      "# test for copy_ripl funtion\n",
      "#myv = make_church_prime_ripl()\n",
      "#myv.assume('x','(beta 1 1)'); myv.observe('(normal x 1)','5'); myv.predict('(flip)')\n",
      "#assert [build_exp(di['expression']) for di in myv.list_directives() ] ==  [build_exp(di['expression']) for di in copy_ripl(myv).list_directives() ]\n",
      "\n",
      "# test for parallel use of copy_ripl_string\n",
      "\n",
      "cli = Client(); dv = cli[:]; dv.block=True\n",
      "dv.execute(copy_ripl_string)\n",
      "dv.execute('from venture.shortcuts import make_church_prime_ripl')\n",
      "dv.execute('v=make_church_prime_ripl()')\n",
      "dv.execute('v.set_seed(1)')\n",
      "dv.execute(\"v.assume('x','(beta 1 1)'); v.observe('(normal x 1)','5'); v.predict('(flip)')\" )\n",
      "dv.execute(\"v2 = copy_ripl(v,seed=1)\" )\n",
      "dv.execute(\"true_assert = [build_exp(di['expression']) for di in v.list_directives() ] ==  [build_exp(di['expression']) for di in copy_ripl(v).list_directives() ]\")\n",
      "assert all(dv['true_assert'])"
     ],
     "language": "python",
     "metadata": {},
     "outputs": [],
     "prompt_number": 3
    },
    {
     "cell_type": "code",
     "collapsed": false,
     "input": [
      "class MRipls():\n",
      "    def __init__(self,no_ripls,block=False):\n",
      "        self.local_ripl = make_church_prime_ripl()\n",
      "        self.local_ripl.set_seed(0)   # same seed as first remote ripl\n",
      "        self.no_ripls = no_ripls\n",
      "        self.seeds = range(self.no_ripls)\n",
      "        \n",
      "        self.cli = Client()\n",
      "        self.dview = cli[:]\n",
      "        self.dview.block = block \n",
      "        def p_getpids(): import os; return os.getpid()\n",
      "        self.pids = self.dview.apply_sync(p_getpids)\n",
      "      \n",
      "        self.dview.execute('from venture.shortcuts import make_church_prime_ripl')\n",
      "        self.dview.execute('ripls = []')\n",
      "        self.dview.execute('seeds = []')\n",
      "        self.dview.execute(copy_ripl_string) # defines copy_ripl and dependencies\n",
      "        \n",
      "        def mk_ripl(seed):\n",
      "            ripls.append( make_church_prime_ripl() )\n",
      "            ripls[-1].set_seed(seed)\n",
      "            seeds.append(seed)\n",
      "            \n",
      "            import os; pid = os.getpid()\n",
      "            index = len(ripls) - 1\n",
      "            print 'Engine %i created ripl %i' % (pid,seed)\n",
      "            return pid,index,seed  # should we return a ripl for debugging?\n",
      "            \n",
      "        self.ripls_location = self.dview.map( mk_ripl, self.seeds ).get()\n",
      "\n",
      "        print sorted(self.ripls_location,key=lambda x:x[0])\n",
      "        \n",
      "\n",
      "    def assume(self,sym,exp,**kwargs):\n",
      "        self.local_ripl.assume(sym,exp,**kwargs)\n",
      "        def f(sym,exp,**kwargs):\n",
      "            return [ripl.assume(sym,exp,**kwargs) for ripl in ripls]\n",
      "        return self.dview.apply(f,sym,exp,**kwargs)       \n",
      "        \n",
      "    def observe(self,exp,val):\n",
      "        self.local_ripl.observe(exp,val)\n",
      "        def f(exp,val): return [ripl.observe(exp,val) for ripl in ripls]\n",
      "        return self.dview.apply(f,exp,val)\n",
      "    \n",
      "    def predict(self,exp):\n",
      "        self.local_ripl.predict(exp)\n",
      "        def f(exp): return [ripl.predict(exp) for ripl in ripls]\n",
      "        return self.dview.apply(f,exp)\n",
      "\n",
      "    def infer(self,params):\n",
      "        self.local_ripl.infer(params)\n",
      "        def f(params): return [ripl.infer(params) for ripl in ripls]\n",
      "        return self.dview.apply(f,params)\n",
      "\n",
      "    def report(self,label_or_did,**kwargs):\n",
      "        self.local_ripl.report(label_or_did,**kwargs)\n",
      "        def f(label_or_did,**kwargs):\n",
      "            return [ripl.report(label_or_did,**kwargs) for ripl in ripls]\n",
      "        return self.dview.apply(f,label_or_did,**kwargs)\n",
      "        \n",
      "    def add_ripls(self,no_new_ripls,new_seeds=None):\n",
      "        # could instead check this for each engine we map to\n",
      "        pids_with_ripls = [ripl_loc[0] for ripl_loc in self.ripls_location]\n",
      "        if any([pid not in pids_with_ripls for pid in self.pids]):\n",
      "            print 'Error: some engines have no ripl, add_ripls failed'\n",
      "            return None\n",
      "\n",
      "        if not(new_seeds):\n",
      "            next = self.seeds[-1] + 1\n",
      "            new_seeds = range( next, next+no_new_ripls )\n",
      "\n",
      "        def add_ripl_engine(seed):\n",
      "            # load the di_list from an existing ripl from ripls\n",
      "            # we only set_seed after having loaded, so all ripls\n",
      "            # created by a call to add ripls may have same starting values\n",
      "            ripls.append( copy_ripl(ripls[0]) ) # ripls[0] must be present\n",
      "            ripls[-1].set_seed(seed)\n",
      "            seeds.append(seed)\n",
      "            import os;   pid = os.getpid(); index = len(ripls) - 1\n",
      "            print 'Engine %i created ripl %i' % (pid,seed)\n",
      "            return pid,index,seed\n",
      "\n",
      "        update = self.dview.map(add_ripl_engine,new_seeds).get()\n",
      "        self.ripls_location.append(update)\n",
      "        self.no_ripls += no_new_ripls\n",
      "        self.seeds += new_seeds\n",
      "        \n",
      "        print sorted(self.ripls_location,key=lambda x:x[0])\n",
      "\n",
      "    def display(self,f_name,f_def,func):\n",
      "        self.dview.execute(f_def)\n",
      "        res_id = np.random.randint(10**10)\n",
      "        code = 'res_%i = [ %s(ripl) for ripl in ripls]' % (res_id,f_name)\n",
      "        self.dview.execute(code)\n",
      "        result = self.dview['res_'+str(res_id)]\n",
      "        return result\n",
      "\n",
      "    def display2(self,f):\n",
      "        return None\n",
      "\n",
      "\n",
      "def pxlocal(line, cell):\n",
      "    ip = get_ipython()\n",
      "    ip.run_cell(cell)\n",
      "    ip.run_cell_magic(\"px\", line, cell)\n",
      "    f_name_parens = cell.split()[1]\n",
      "    f_name = f_name_parens[:f_name_parens.find('(')]\n",
      "    \n",
      "    res_id = np.random.randint(10**4) # FIXME\n",
      "    code = 'res_%i = [ %s(ripl) for ripl in ripls]' % (res_id,f_name)\n",
      "    v.dview.execute(code)\n",
      "    res = v.dview['res_'+str(res_id)]\n",
      "    print res\n",
      "    return res\n",
      "\n",
      "def pxlocal_line(line, cell):\n",
      "    ip = get_ipython()\n",
      "    ip.run_cell(cell)\n",
      "    ip.run_cell_magic(\"px\", '', cell)\n",
      "    \n",
      "    f_name = str(line).split()[0]\n",
      "    mripl=eval( str(line).split()[1] ) \n",
      "    \n",
      "    res_id = np.random.randint(10**4) # FIXME\n",
      "    code = 'res_%i = [ %s(ripl) for ripl in ripls]' % (res_id,f_name)\n",
      "    mripl.dview.execute(code)\n",
      "    res = mripl.dview['res_'+str(res_id)]\n",
      "    print 'f_name:',f_name,'m_ripl',line.split()[1],mripl\n",
      "    return res\n",
      "\n",
      "ip = get_ipython()\n",
      "ip.register_magic_function(pxlocal, \"cell\")\n",
      "ip.register_magic_function(pxlocal_line, \"cell\")\n",
      "\n",
      "v = MRipls(4); cat = lambda xs,ys: xs + ys \n",
      "test_v = make_church_prime_ripl(); test_v.set_seed(0)\n",
      "ls_x = reduce(cat,v.assume('x','(uniform_continuous 0 1000)').get())\n",
      "test_x = test_v.assume('x','(uniform_continuous 0 1000)')\n",
      "local_x = v.local_ripl.report(1)\n",
      "assert( np.round(test_x) in np.round(ls_x) )\n",
      "assert( np.round(local_x) in np.round(ls_x) )\n"
     ],
     "language": "python",
     "metadata": {},
     "outputs": [
      {
       "output_type": "stream",
       "stream": "stdout",
       "text": [
        " [(2413, 0, 0), (2414, 0, 1), (2423, 0, 2), (2428, 0, 3)]\n"
       ]
      }
     ],
     "prompt_number": 23
    },
    {
     "cell_type": "code",
     "collapsed": false,
     "input": [
      "%%pxlocal\n",
      "def u_pred(ripl): return ripl.predict('(beta 1 1)')"
     ],
     "language": "python",
     "metadata": {},
     "outputs": [
      {
       "output_type": "stream",
       "stream": "stdout",
       "text": [
        "[[0.831220186515967], [0.04322024423130047], [0.9424102650976548], [0.40831303338352765]]\n"
       ]
      },
      {
       "metadata": {},
       "output_type": "pyout",
       "prompt_number": 11,
       "text": [
        "[[0.831220186515967],\n",
        " [0.04322024423130047],\n",
        " [0.9424102650976548],\n",
        " [0.40831303338352765]]"
       ]
      }
     ],
     "prompt_number": 11
    },
    {
     "cell_type": "code",
     "collapsed": false,
     "input": [
      "#IMPORTANT\n",
      "#[optinal] plot [if a figure, then plot line]\n",
      "# if figure a venture value, show a hist (use snapshot)\n",
      "res = reduce(lambda s,t:s+t, Out[7] )\n",
      "assert( u_pred(v.local_ripl) in res )"
     ],
     "language": "python",
     "metadata": {},
     "outputs": [],
     "prompt_number": 12
    },
    {
     "cell_type": "code",
     "collapsed": false,
     "input": [
      "%%pxlocal_line fo v\n",
      "1+1\n",
      "def bat(x): return 'didnt wanna run me'\n",
      "def fo(r): return r.predict('(normal x .01)'),r.predict('x'),r.report(1)"
     ],
     "language": "python",
     "metadata": {},
     "outputs": [
      {
       "output_type": "stream",
       "stream": "stdout",
       "text": [
        "f_name: fo m_ripl v <__main__.MRipls instance at 0xb78cbcc>\n"
       ]
      },
      {
       "metadata": {},
       "output_type": "pyout",
       "prompt_number": 25,
       "text": [
        "[[(999.7366604186811, 999.741748906672, 999.741748906672)],\n",
        " [(417.01810952864975, 417.0219984371215, 417.0219984371215)],\n",
        " [(435.99576020889094, 435.99490262567997, 435.99490262567997)],\n",
        " [(550.7997947056573, 550.7979043759406, 550.7979043759406)]]"
       ]
      }
     ],
     "prompt_number": 25
    },
    {
     "cell_type": "code",
     "collapsed": false,
     "input": [
      "st='foo'\n",
      "st.split()"
     ],
     "language": "python",
     "metadata": {},
     "outputs": [
      {
       "output_type": "stream",
       "stream": "stdout",
       "text": [
        "\n"
       ]
      }
     ],
     "prompt_number": 17
    },
    {
     "cell_type": "code",
     "collapsed": false,
     "input": [
      "%%pxlocal\n",
      "var=100, name='jimmy'\n",
      "def jim(ripl): ripl.assume(name, '(normal 0 ' + str(var) +')' )"
     ],
     "language": "python",
     "metadata": {},
     "outputs": []
    }
   ],
   "metadata": {}
  }
 ]
}