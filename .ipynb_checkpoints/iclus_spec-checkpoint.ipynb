{
 "metadata": {
  "name": ""
 },
 "nbformat": 3,
 "nbformat_minor": 0,
 "worksheets": [
  {
   "cells": [
    {
     "cell_type": "heading",
     "level": 2,
     "metadata": {},
     "source": [
      "Spec and ideas for MultiRipl IPython"
     ]
    },
    {
     "cell_type": "markdown",
     "metadata": {},
     "source": [
      "Here's an example interaction using multiripls that illustrates various features. I have a working skeleton but not everything below is implemented."
     ]
    },
    {
     "cell_type": "code",
     "collapsed": false,
     "input": [
      "> start ipcluster (in terminal)\n",
      "\n",
      "# On startup, IPython loads MultiRipl class and associated magics\n",
      "Out: 'Loaded MultiRipl class, found %i ipcluster engines.'\n",
      "\n",
      "## Create a MultiRipl object\n",
      "mripl1 = MultiRipl(no_ripls=5)\n",
      "Out: '[ (pid=3233, ripls=(0,1)), (pid=3234, ripls=(2,3) ) .. ] ' # outputs [ (pid of engine, ripls running on engine) ... ]\n",
      "\n",
      "## Interact using python syntax\n",
      "mripl1.assume('x','(beta 1 1)')\n",
      "mripl1.add_ripls(no_ripls=10)\n",
      "mripl1.infer(10); mripl1.snapshot(1,plot=True)\n",
      "Out: '[.89, .12, ...]' # and inline histogram/kde/scatter'"
     ],
     "language": "python",
     "metadata": {},
     "outputs": []
    },
    {
     "cell_type": "code",
     "collapsed": false,
     "input": [
      "## Interact using cell/line magic, specifying name of mripl in the line\n",
      "%%mr_vmagic  name=mripl1   \n",
      "[assume x 1]\n",
      "[observe (normal x 1) 5]\n",
      "[predict (+ x 1)]"
     ],
     "language": "python",
     "metadata": {},
     "outputs": []
    },
    {
     "cell_type": "code",
     "collapsed": false,
     "input": [
      "## Map procedure across all the ripls using cell magic [NOT FULLY IMPLEMENTED--JUST AN EXAMPLE]\n",
      "# (I forget what name you suggested for this 'display' magic)\n",
      "\n",
      "%%mr_map   name=mripl1  proc_name='crp_plot'  plot=True\n",
      "\n",
      "import matplotlib.pylab as plt\n",
      "from my_crp_utils import crp_helper\n",
      "\n",
      "def crp_helper_func(x): return helpful_out\n",
      "\n",
      "def crp_plot(ripl):\n",
      "    crp_helper_func(ripl)\n",
      "    N = ripl.report(label='N')\n",
      "    X_values = [ripl.report(label='x_'+str(i) ) for i in range(N) ]\n",
      "    Z_values = [ripl.report(label='z_'+str(i) ) for i in range(N) ]\n",
      "    fig, ax = plt.subplots()\n",
      "    ax.scatter(X_values[:,0],X_values[:,1], Z_values)\n",
      "    return X_values,Z_values,fig\n",
      "\n",
      "\n",
      "Out: # figures are plotted inline, either via subplots or slideshow in Bokeh\n",
      "     # we can also examine return type of function and then use an appropriate plot (e.g. discrete vs. continuous)\n",
      "        \n",
      "        \n",
      "## Re-use the same mapped procedure after more interaction\n",
      "\n",
      "mripl1.add_ripls(10)\n",
      "mripl1.infer(1000)\n",
      "\n",
      "%%mr_map   name=mripl1   proc_name=crp_plot  plot=True\n",
      "\n",
      "# called with no cell, mr_map will map the previously defined procedure\n",
      "# across all current ripls. \n",
      "  \n"
     ],
     "language": "python",
     "metadata": {},
     "outputs": []
    },
    {
     "cell_type": "markdown",
     "metadata": {},
     "source": [
      "Note: the code in a <code>%mr_map</code> is executed on all ripls via <code>%%px</code> parallel cell magic\n",
      "you can define variables and do imports. You can't push variables\n",
      "across using this magic. \n",
      "\n",
      "The function specified in the line (proc_name)\n",
      "will be mapped across all ripls. It has to take a ripl as its sole\n",
      "argument. The function can use variables/modules defined in the global environment of \n",
      "the engines."
     ]
    },
    {
     "cell_type": "heading",
     "level": 2,
     "metadata": {},
     "source": [
      "Creating multiple multiripls"
     ]
    },
    {
     "cell_type": "markdown",
     "metadata": {},
     "source": [
      "\n",
      "I could change the current MultiRipl class to allow a single IPython session to control more than one MultiRipl object. \n",
      "\n",
      "This would make it easy to compare two different models on the same data. You could put plots side-by-side or compare two models on the same plots. (Not what a Bayesian should do, but common for Bayesians in practice).\n",
      "\n",
      "In the examples above, the magics take the multiripl name as an argument. They could work on multiple multiripls. We just need to change the class constructor that I currently have.\n",
      "\n",
      "The current class constructor creates a list of ripls for each engine as follows:\n",
      "\n",
      "```\n",
      "dview.execute('ripls = []') \n",
      "```\n",
      "\n",
      "and then populates it by mapping this function across the engines:\n",
      "\n",
      "```\n",
      "def mk_ripl(seed): ripls.append( make_church_prime_ripl() )\n",
      "dview.map( mk_ripl, seeds )\n",
      "```\n",
      "\n",
      "The directives are applied to the ripls using parallel 'apply' and functions like this:\n",
      "\n",
      "```\n",
      " def predict(self,exp):\n",
      "        def f(exp): return [ripl.predict(exp) for ripl in ripls]\n",
      "        return self.dview.apply(f,exp)\n",
      "```\n",
      "\n",
      "Instead, we could assign a unique number (mripl_id) to each MultiRipl in the global environment and use that number to send directives to the right set of ripls. \n",
      "\n",
      "So the constructor would be:\n",
      "\n",
      "```\n",
      "dview.execute('ripls[%i] = []' % mriple_id)\n",
      "def mk_ripl(seed,mripl_id): ripls[mripl_id].append( make_church_prime_ripl() )\n",
      "dview.map( mk_ripl, zip(seeds,[mripl_id]*len(seeds)) )\n",
      "```\n",
      "\n",
      "The directives would be:\n",
      "\n",
      "```\n",
      "def predict(self,exp):\n",
      "        def f(exp,mripl_id): return [ripl.predict(exp) for ripl in ripls[mripl_id] ]\n",
      "        return self.dview.apply(f,exp,mripl_id)\n",
      "```"
     ]
    },
    {
     "cell_type": "heading",
     "level": 2,
     "metadata": {},
     "source": [
      "<b>Other ideas</b>\n"
     ]
    },
    {
     "cell_type": "markdown",
     "metadata": {},
     "source": [
      "1. Simplified plates/graphical model notation for representing the generative model. Might be non-trivial to do a good job of this in general. \n",
      "\n",
      "\n",
      "2. Flexible, interactive plots for the trace. With parallel ripls, we'll want to map this across (a subset of) the ripls, especially for non-parametric models where traces vary lots in structure over the Markov chain.\n",
      " \n",
      "Want to be able to resize, pan and zoom. To highlight node types and to collapse certain groups of nodes (e.g. all conditionally independent observations generated from the same procedure). (For debugging, maybe we want to see the state in SPs that may be hidden from Venture).\n",
      "\n",
      "We may want to compare side-by-side various plots of the probabilities/snapshots with images of the trace. (e.g. looking at what traces look like when logscore is high vs. low.)\n",
      "\n",
      "It might be that the most useful kind of visualization of the trace depend on the specific inference technique and one's ability to alter the inference by examining what's going on in the traces over time.\n",
      "\n",
      "One can imagine looking at traces and snapshots over time. If inference is working poorly, change the inference directive and look again at traces and snapshots. You could also start by creating a set of multiripls with different inference directives and then compare them all simultaneously.\n",
      "\n"
     ]
    }
   ],
   "metadata": {}
  }
 ]
}