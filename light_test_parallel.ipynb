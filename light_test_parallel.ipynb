{
 "metadata": {
  "name": ""
 },
 "nbformat": 3,
 "nbformat_minor": 0,
 "worksheets": [
  {
   "cells": [
    {
     "cell_type": "heading",
     "level": 1,
     "metadata": {},
     "source": [
      "lightweight mripls tests"
     ]
    },
    {
     "cell_type": "code",
     "collapsed": false,
     "input": [
      "%run /home/owainevans/Venturecxx/python/lib/venturemagics/ip_parallel.py\n",
      "clear_all_engines()"
     ],
     "language": "python",
     "metadata": {},
     "outputs": [],
     "prompt_number": 2
    },
    {
     "cell_type": "code",
     "collapsed": false,
     "input": [
      "v_cxx=MRipl(2,lite=False)\n",
      "v_lite=MRipl(2,lite=True)\n",
      "vs = [v_cxx,v_lite]"
     ],
     "language": "python",
     "metadata": {},
     "outputs": [
      {
       "output_type": "stream",
       "stream": "stdout",
       "text": [
        "['(pid, index, seed)', (7822, 0, 0), (7825, 0, 1)]\n",
        "['(pid, index, seed)', (7822, 0, 0), (7825, 0, 1)]"
       ]
      },
      {
       "output_type": "stream",
       "stream": "stdout",
       "text": [
        "\n"
       ]
      }
     ],
     "prompt_number": 2
    },
    {
     "cell_type": "code",
     "collapsed": false,
     "input": [
      "%%mr_map v_cxx foo stfoo\n",
      "from numpy import *\n",
      "def foo(ripl):\n",
      "    fig,ax = plt.subplots(figsize=(1,1))\n",
      "    ax.plot(range(10),range(10))\n",
      "    return 33\n",
      "    \n"
     ],
     "language": "python",
     "metadata": {},
     "outputs": [
      {
       "metadata": {},
       "output_type": "display_data",
       "text": [
        "[output:0]"
       ]
      },
      {
       "metadata": {},
       "output_type": "display_data",
       "png": "[encoded data removed]",
       "text": [
        "<matplotlib.figure.Figure at 0xab5e5ac>"
       ]
      },
      {
       "metadata": {},
       "output_type": "display_data",
       "text": [
        "[output:1]"
       ]
      },
      {
       "metadata": {},
       "output_type": "display_data",
       "png": "[encoded data removed]",
       "text": [
        "<matplotlib.figure.Figure at 0x9fbb74c>"
       ]
      },
      {
       "output_type": "stream",
       "stream": "stdout",
       "text": [
        "stfoo = \n"
       ]
      },
      {
       "metadata": {},
       "output_type": "pyout",
       "prompt_number": 11,
       "text": [
        "{'info': {'mripl': 'v_cxx', 'proc': 'foo'}, 'out': [33, 33]}"
       ]
      }
     ],
     "prompt_number": 11
    },
    {
     "cell_type": "code",
     "collapsed": false,
     "input": [
      "%%mr_map v_lite foo stfoo\n",
      "from numpy import *\n",
      "def foo(ripl):\n",
      "    fig,ax = plt.subplots(figsize=(1,1))\n",
      "    ax.plot(range(10),range(10))\n",
      "    return 33"
     ],
     "language": "python",
     "metadata": {},
     "outputs": [
      {
       "metadata": {},
       "output_type": "display_data",
       "text": [
        "[output:0]"
       ]
      },
      {
       "metadata": {},
       "output_type": "display_data",
       "png": "[encoded data removed]",
       "text": [
        "<matplotlib.figure.Figure at 0xa24dfac>"
       ]
      },
      {
       "metadata": {},
       "output_type": "display_data",
       "text": [
        "[output:1]"
       ]
      },
      {
       "metadata": {},
       "output_type": "display_data",
       "png": "[encoded data removed]",
       "text": [
        "<matplotlib.figure.Figure at 0xb01d7ec>"
       ]
      },
      {
       "output_type": "stream",
       "stream": "stdout",
       "text": [
        "stfoo = \n"
       ]
      },
      {
       "metadata": {},
       "output_type": "pyout",
       "prompt_number": 12,
       "text": [
        "{'info': {'mripl': 'v_lite', 'proc': 'foo'}, 'out': [33, 33]}"
       ]
      }
     ],
     "prompt_number": 12
    },
    {
     "cell_type": "code",
     "collapsed": false,
     "input": [
      "def plott(ripl):\n",
      "    fig,ax = plt.subplots(figsize=(1,1))\n",
      "    ax.plot(range(10),range(10))\n",
      "    return None\n",
      "    \n",
      "outs=[mr_map_nomagic(v,plott) for v in vs]"
     ],
     "language": "python",
     "metadata": {},
     "outputs": [
      {
       "metadata": {},
       "output_type": "display_data",
       "text": [
        "[output:0]"
       ]
      },
      {
       "metadata": {},
       "output_type": "display_data",
       "png": "[encoded data removed]",
       "text": [
        "<matplotlib.figure.Figure at 0xa81f8ac>"
       ]
      },
      {
       "metadata": {},
       "output_type": "display_data",
       "text": [
        "[output:1]"
       ]
      },
      {
       "metadata": {},
       "output_type": "display_data",
       "png": "[encoded data removed]",
       "text": [
        "<matplotlib.figure.Figure at 0xa3ced2c>"
       ]
      },
      {
       "metadata": {},
       "output_type": "display_data",
       "text": [
        "[output:0]"
       ]
      },
      {
       "metadata": {},
       "output_type": "display_data",
       "png": "[encoded data removed]",
       "text": [
        "<matplotlib.figure.Figure at 0xa721aec>"
       ]
      },
      {
       "metadata": {},
       "output_type": "display_data",
       "text": [
        "[output:1]"
       ]
      },
      {
       "metadata": {},
       "output_type": "display_data",
       "png": "[encoded data removed]",
       "text": [
        "<matplotlib.figure.Figure at 0xa15a98c>"
       ]
      }
     ],
     "prompt_number": 9
    },
    {
     "cell_type": "code",
     "collapsed": false,
     "input": [
      "%run ~/Venturecxx/python/lib/venturemagics/ip_parallel.py\n",
      "clear_all_engines()\n",
      "v_cxx=MRipl(2,lite=False); v_lite=MRipl(2,lite=True); vs = [v_cxx,v_lite]\n",
      "prog='''\n",
      "[assume alpha .99]\n",
      "[assume crp (make_crp alpha) ]\n",
      "[assume z (mem (lambda (i) (crp) ) ) ]\n",
      "[assume x (mem (lambda (i) (poisson (z i))  ) ) ]'''\n",
      "[v.execute_program(prog) for v in vs]\n",
      "local_z = range(10)\n",
      "[v_lite.observe('(x %i)' % i, str(i), label=('x_%i' % i) ) for i in range(10)]  \n",
      "#[v_cxx.observe('(z %i)' % i, str(i), label=('z_%i' % i) ) for i in range(10)]  "
     ],
     "language": "python",
     "metadata": {},
     "outputs": [],
     "prompt_number": "*"
    },
    {
     "cell_type": "code",
     "collapsed": false,
     "input": [
      "v_lite.infer(100)\n",
      "zs =[v_lite.sample('(z %i)' % i ) ) for i in range(10)]"
     ],
     "language": "python",
     "metadata": {},
     "outputs": []
    }
   ],
   "metadata": {}
  }
 ]
}