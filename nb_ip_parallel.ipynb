{
 "metadata": {
  "name": ""
 },
 "nbformat": 3,
 "nbformat_minor": 0,
 "worksheets": [
  {
   "cells": [
    {
     "cell_type": "code",
     "collapsed": false,
     "input": [
      "%run ~/myunit/ip_parallel.py\n",
      "clear_all_engines()\n",
      "v=MRipl(10)"
     ],
     "language": "python",
     "metadata": {},
     "outputs": [
      {
       "output_type": "stream",
       "stream": "stdout",
       "text": [
        "['(pid, index, seed)', (3942, 0, 0), (3942, 1, 1), (3943, 0, 2), (3943, 1, 3)]\n",
        "['(pid, index, seed)', (3942, 0, 0), (3942, 1, 1), (3942, 2, 2), (3942, 3, 3), (3942, 4, 4), (3943, 0, 5), (3943, 1, 6), (3943, 2, 7), (3943, 3, 8), (3943, 4, 9)]"
       ]
      },
      {
       "output_type": "stream",
       "stream": "stdout",
       "text": [
        "\n"
       ]
      }
     ],
     "prompt_number": 6
    },
    {
     "cell_type": "code",
     "collapsed": false,
     "input": [
      "%%mr_map fo v\n",
      "def fo(r): return r.predict('(normal 0 1)')"
     ],
     "language": "python",
     "metadata": {},
     "outputs": [
      {
       "output_type": "stream",
       "stream": "stdout",
       "text": [
        "[u'fo', u'v']\n"
       ]
      },
      {
       "metadata": {},
       "output_type": "pyout",
       "prompt_number": 7,
       "text": [
        "[{'mripl_mrid_proc': ('v', 0, 'fo'),\n",
        "  'vals': [0.13391860811867587,\n",
        "   0.306399512330476,\n",
        "   -1.3031057134882806,\n",
        "   -0.7577521440857319,\n",
        "   -1.272757518604508]},\n",
        " {'mripl_mrid_proc': ('v', 0, 'fo'),\n",
        "  'vals': [0.09964386053259157,\n",
        "   -1.0929538421043448,\n",
        "   -0.6915284108572499,\n",
        "   -0.31555817054602503,\n",
        "   -1.9718362764607773]}]"
       ]
      }
     ],
     "prompt_number": 7
    },
    {
     "cell_type": "code",
     "collapsed": false,
     "input": [
      "v.clear()\n",
      "v.assume('x','(normal 0 100)',label='x')\n",
      "v.assume('y','(normal x 10)',label='y')\n",
      "v.observe('y','5')\n",
      "v.snapshot(1,plot=True)"
     ],
     "language": "python",
     "metadata": {},
     "outputs": [
      {
       "metadata": {},
       "output_type": "pyout",
       "prompt_number": 8,
       "text": [
        "{'figs': None,\n",
        " 'ripls_info': [{'index': 0,\n",
        "   'pid': 3942,\n",
        "   'ripl': '<venture.ripl.ripl.Ripl instance at 0x994640c>',\n",
        "   'seed': 0},\n",
        "  {'index': 1,\n",
        "   'pid': 3942,\n",
        "   'ripl': '<venture.ripl.ripl.Ripl instance at 0x9a13d4c>',\n",
        "   'seed': 1},\n",
        "  {'index': 2,\n",
        "   'pid': 3942,\n",
        "   'ripl': '<venture.ripl.ripl.Ripl instance at 0x995a68c>',\n",
        "   'seed': 2},\n",
        "  {'index': 3,\n",
        "   'pid': 3942,\n",
        "   'ripl': '<venture.ripl.ripl.Ripl instance at 0x9e7d96c>',\n",
        "   'seed': 3},\n",
        "  {'index': 4,\n",
        "   'pid': 3942,\n",
        "   'ripl': '<venture.ripl.ripl.Ripl instance at 0x9ad0c2c>',\n",
        "   'seed': 4},\n",
        "  {'index': 0,\n",
        "   'pid': 3943,\n",
        "   'ripl': '<venture.ripl.ripl.Ripl instance at 0xb41a0ac>',\n",
        "   'seed': 5},\n",
        "  {'index': 1,\n",
        "   'pid': 3943,\n",
        "   'ripl': '<venture.ripl.ripl.Ripl instance at 0xb32efec>',\n",
        "   'seed': 6},\n",
        "  {'index': 2,\n",
        "   'pid': 3943,\n",
        "   'ripl': '<venture.ripl.ripl.Ripl instance at 0xb42e66c>',\n",
        "   'seed': 7},\n",
        "  {'index': 3,\n",
        "   'pid': 3943,\n",
        "   'ripl': '<venture.ripl.ripl.Ripl instance at 0xb86a94c>',\n",
        "   'seed': 8},\n",
        "  {'index': 4,\n",
        "   'pid': 3943,\n",
        "   'ripl': '<venture.ripl.ripl.Ripl instance at 0xb669c0c>',\n",
        "   'seed': 9}],\n",
        " 'total_transitions': 0,\n",
        " 'values': {1: [13.391860811867588,\n",
        "   30.639951233047604,\n",
        "   -130.31057134882806,\n",
        "   -75.77521440857319,\n",
        "   -127.2757518604508,\n",
        "   9.964386053259156,\n",
        "   -109.29538421043448,\n",
        "   -69.152841085725,\n",
        "   -31.5558170546025,\n",
        "   -197.18362764607772]}}"
       ]
      },
      {
       "metadata": {},
       "output_type": "display_data",
       "png": "[encoded data removed]",
       "text": [
        "<matplotlib.figure.Figure at 0xaef2bec>"
       ]
      }
     ],
     "prompt_number": 8
    },
    {
     "cell_type": "code",
     "collapsed": false,
     "input": [],
     "language": "python",
     "metadata": {},
     "outputs": []
    }
   ],
   "metadata": {}
  }
 ]
}