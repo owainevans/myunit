{
 "metadata": {
  "name": ""
 },
 "nbformat": 3,
 "nbformat_minor": 0,
 "worksheets": [
  {
   "cells": [
    {
     "cell_type": "code",
     "collapsed": false,
     "input": [
      "%run ~/myunit/ip_parallel.py\n",
      "clear_all_engines()\n",
      "v=MRipl(50)"
     ],
     "language": "python",
     "metadata": {},
     "outputs": [
      {
       "output_type": "stream",
       "stream": "stdout",
       "text": [
        "['(pid, index, seed)', (2677, 0, 0), (2677, 1, 1), (2677, 2, 2), (2677, 3, 3), (2677, 4, 4), (2677, 5, 5), (2677, 6, 6), (2677, 7, 7), (2677, 8, 8), (2677, 9, 9), (2677, 10, 10), (2677, 11, 11), (2677, 12, 12), (2677, 13, 13), (2677, 14, 14), (2677, 15, 15), (2677, 16, 16), (2677, 17, 17), (2677, 18, 18), (2677, 19, 19), (2677, 20, 20), (2677, 21, 21), (2677, 22, 22), (2677, 23, 23), (2677, 24, 24), (2678, 0, 25), (2678, 1, 26), (2678, 2, 27), (2678, 3, 28), (2678, 4, 29), (2678, 5, 30), (2678, 6, 31), (2678, 7, 32), (2678, 8, 33), (2678, 9, 34), (2678, 10, 35), (2678, 11, 36), (2678, 12, 37), (2678, 13, 38), (2678, 14, 39), (2678, 15, 40), (2678, 16, 41), (2678, 17, 42), (2678, 18, 43), (2678, 19, 44), (2678, 20, 45), (2678, 21, 46), (2678, 22, 47), (2678, 23, 48), (2678, 24, 49)]\n"
       ]
      }
     ],
     "prompt_number": 29
    },
    {
     "cell_type": "code",
     "collapsed": false,
     "input": [
      "%%mr_map fo v\n",
      "def fo(r): return r.predict('(normal 0 1)')"
     ],
     "language": "python",
     "metadata": {},
     "outputs": [
      {
       "output_type": "stream",
       "stream": "stdout",
       "text": [
        "[u'fo', u'v']\n"
       ]
      },
      {
       "metadata": {},
       "output_type": "pyout",
       "prompt_number": 6,
       "text": [
        "[{'mripl_mrid_proc': ('v', 0, 'fo'),\n",
        "  'vals': [0.13391860811867587, 0.306399512330476]},\n",
        " {'mripl_mrid_proc': ('v', 0, 'fo'),\n",
        "  'vals': [-1.3031057134882806, -0.7577521440857319]}]"
       ]
      }
     ],
     "prompt_number": 6
    },
    {
     "cell_type": "code",
     "collapsed": false,
     "input": [
      "v.clear()\n",
      "v.assume('x','(normal 0 100)',label='x')\n",
      "v.assume('y','(normal 0 100)',label='y')\n",
      "v.assume('z','(normal (+ x y) 10)',label='z')\n",
      "v.observe('z','5')\n",
      "snap1=v.snapshot(['x','y'],plot=False,scatter=True)\n",
      "v.infer(200)\n",
      "snap2=v.snapshot(['x','y'],plot=False,scatter=True)"
     ],
     "language": "python",
     "metadata": {},
     "outputs": [],
     "prompt_number": 31
    },
    {
     "cell_type": "code",
     "collapsed": false,
     "input": [
      "# mean of x\n",
      "print 'mean,sd of x at 0 transitions: ', np.mean(snap1['values']['x']),np.std(snap1['values']['x'])\n",
      "print 'mean,sd of x at 200 transitions: ', np.mean(snap2['values']['x']),np.std(snap2['values']['x'])"
     ],
     "language": "python",
     "metadata": {},
     "outputs": [
      {
       "output_type": "stream",
       "stream": "stdout",
       "text": [
        "mean,sd of x at 0 transitions:  -0.341317620111 95.595890795\n",
        "mean,sd of x at 200 transitions:  -7.2738137584 60.1237664068\n"
       ]
      }
     ],
     "prompt_number": 39
    },
    {
     "cell_type": "code",
     "collapsed": false,
     "input": [
      "%%v\n",
      "[clear]\n",
      "[assume x (beta 1 1) ]\n",
      "[assume y .8]\n",
      "[observe (if (flip) (flip x) (flip y) ) true]\n",
      "[observe (if (flip) (flip x) (flip y) ) true]\n",
      "[observe (if (flip) (flip x) (flip y) ) true]\n"
     ],
     "language": "python",
     "metadata": {},
     "outputs": [
      {
       "output_type": "stream",
       "stream": "stdout",
       "text": [
        "[directive_id: 1].  assume x   =  0.239789806399 \n",
        "[directive_id: 2].  assume y   =  0.8 \n"
       ]
      },
      {
       "metadata": {},
       "output_type": "pyout",
       "prompt_number": 27,
       "text": [
        "([0.23978980639905173, 0.8],\n",
        " [{},\n",
        "  {'directive_id': 1,\n",
        "   'value': {'type': 'number', 'value': 0.23978980639905173}},\n",
        "  {'directive_id': 2, 'value': {'type': 'number', 'value': 0.8}},\n",
        "  {'directive_id': 3},\n",
        "  {'directive_id': 4},\n",
        "  {'directive_id': 5}])"
       ]
      }
     ],
     "prompt_number": 27
    },
    {
     "cell_type": "code",
     "collapsed": false,
     "input": [
      "v=ipy_ripl\n",
      "no_steps = 300\n",
      "samples=[]\n",
      "for i in range(no_steps):\n",
      "    v.infer(10)\n",
      "    samples.append( v.report(1) )\n",
      "hist(samples,bins=20)"
     ],
     "language": "python",
     "metadata": {},
     "outputs": [
      {
       "metadata": {},
       "output_type": "pyout",
       "prompt_number": 28,
       "text": [
        "(array([ 1,  3,  6,  2,  3,  4,  5,  5, 11,  8, 22, 15, 11, 15, 11, 23, 37,\n",
        "       26, 44, 48]),\n",
        " array([ 0.0131397 ,  0.06198271,  0.11082573,  0.15966874,  0.20851176,\n",
        "        0.25735477,  0.30619779,  0.3550408 ,  0.40388382,  0.45272683,\n",
        "        0.50156985,  0.55041286,  0.59925588,  0.64809889,  0.69694191,\n",
        "        0.74578492,  0.79462794,  0.84347095,  0.89231397,  0.94115698,\n",
        "        0.99      ]),\n",
        " <a list of 20 Patch objects>)"
       ]
      },
      {
       "metadata": {},
       "output_type": "display_data",
       "png": "[encoded data removed]",
       "text": [
        "<matplotlib.figure.Figure at 0xba1526c>"
       ]
      }
     ],
     "prompt_number": 28
    },
    {
     "cell_type": "code",
     "collapsed": false,
     "input": [
      "samples = np.random.beta(4,1,300)\n",
      "hist(samples,bins=20)"
     ],
     "language": "python",
     "metadata": {},
     "outputs": [
      {
       "metadata": {},
       "output_type": "pyout",
       "prompt_number": 24,
       "text": [
        "(array([ 1,  3,  0,  1,  5,  2, 10, 10,  5, 14,  8, 15, 23, 19, 28, 19, 25,\n",
        "       50, 34, 28]),\n",
        " array([ 0.3128333 ,  0.34717051,  0.38150772,  0.41584493,  0.45018214,\n",
        "        0.48451935,  0.51885656,  0.55319377,  0.58753098,  0.62186819,\n",
        "        0.6562054 ,  0.69054261,  0.72487982,  0.75921703,  0.79355424,\n",
        "        0.82789146,  0.86222867,  0.89656588,  0.93090309,  0.9652403 ,\n",
        "        0.99957751]),\n",
        " <a list of 20 Patch objects>)"
       ]
      },
      {
       "metadata": {},
       "output_type": "display_data",
       "png": "[encoded data removed]",
       "text": [
        "<matplotlib.figure.Figure at 0xba0ac8c>"
       ]
      }
     ],
     "prompt_number": 24
    },
    {
     "cell_type": "code",
     "collapsed": false,
     "input": [],
     "language": "python",
     "metadata": {},
     "outputs": []
    }
   ],
   "metadata": {}
  }
 ]
}