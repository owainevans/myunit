{
 "metadata": {
  "name": ""
 },
 "nbformat": 3,
 "nbformat_minor": 0,
 "worksheets": [
  {
   "cells": [
    {
     "cell_type": "code",
     "collapsed": false,
     "input": [
      "%%v \n",
      "[clear]\n",
      "[assume zeros (lambda (n) (if (= n 0) (list) (pair 0 (zeros (minus n 1)))))]\n",
      "[assume is_nil (lambda (lst) (not (is_pair lst) ) ) ]\n",
      "[assume nil (list)]\n",
      "[predict (zeros (quote 5) ) ]\n",
      "[predict (zeros (5) ) ]\n",
      "[predict (is_nil nil) ]\n",
      "\n",
      "\n"
     ],
     "language": "python",
     "metadata": {},
     "outputs": [],
     "prompt_number": "*"
    },
    {
     "cell_type": "code",
     "collapsed": false,
     "input": [
      "\n",
      "[assume len (lambda (lst) (if (is_nil lst) 0 (plus 1. (len (rest lst))) ) ) ]\n",
      "[assume repeat (lambda (th n) (if (= n 0) (list) (pair (th) (repeat th (minus n 1) ) ) ) ) ] \n",
      "[assume nps (list (quote bob) (quote time) (quote space) (quote truth) (quote alice) (quote fate) (quote man) (quote beast) (quote nature) (quote he) (quote she) (quote cynthia) (quote zeus) ) ]\n",
      "[assume np (lambda () (lookup nps (uniform_discrete 0 (len nps)) ) ) ]\n",
      "[assume uni_simplex (lambda (n) (map_list (lambda (x) (div 1 n)) (zeros n) ) ) ]\n",
      "[assume np2 (lambda () (lookup nps (categorical (simplex (uni_simplex (len nps) ) ) ) ) ) ]\n",
      "[assume npz (repeat np 3) ]"
     ],
     "language": "python",
     "metadata": {},
     "outputs": []
    }
   ],
   "metadata": {}
  }
 ]
}