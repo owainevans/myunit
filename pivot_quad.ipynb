{
 "metadata": {
  "name": ""
 },
 "nbformat": 3,
 "nbformat_minor": 0,
 "worksheets": [
  {
   "cells": [
    {
     "cell_type": "code",
     "collapsed": false,
     "input": [
      "import numpy as np\n",
      "from numpy.random import randn\n",
      "import pandas as pd\n",
      "from scipy import stats\n",
      "import matplotlib as mpl\n",
      "import matplotlib.pyplot as plt\n",
      "#import seaborn as sns\n",
      "\n",
      "def hexbin_plot(x,y):\n",
      "    fig,ax = plt.subplots()\n",
      "    ax.hexbin(x, y, gridsize=40, cmap=\"BuGn\", extent=(min(x),max(x), min(y),max(y)) )\n",
      "    return fig,ax\n",
      "\n",
      "def kde_plot(x,y):\n",
      "    fig,ax = plt.subplots()\n",
      "    sns.kdeplot(x,y,shade=True,cmap=None,ax=ax)\n",
      "    return fig,ax\n"
     ],
     "language": "python",
     "metadata": {},
     "outputs": [],
     "prompt_number": 6
    },
    {
     "cell_type": "code",
     "collapsed": false,
     "input": [
      "from venture.venturemagics.ip_parallel import *; lite=False; clear_all_engines()\n",
      "mk_l = make_lite_church_prime_ripl; mk_c = make_church_prime_ripl\n",
      "\n",
      "x_model_crp='''\n",
      "[assume alpha (uniform_continuous .01 1)]\n",
      "[assume crp (make_crp alpha) ]\n",
      "[assume z (mem (lambda (i) (crp) ) ) ]\n",
      "[assume mu (mem (lambda (z) (normal 0 5) ) ) ] \n",
      "[assume sig (mem (lambda (z) (uniform_continuous .1 8) ) ) ]\n",
      "[assume x (mem (lambda (i) (normal (mu (z i)) (sig (z i))))  ) ]\n",
      "'''\n",
      "x_model_t='''\n",
      "[assume nu (gamma 10 1)]\n",
      "[assume x (mem (lambda (i) (student_t nu) ) )]\n",
      "'''\n",
      "pivot_model='''\n",
      "[assume w0 (mem (lambda (p)(normal 0 3))) ]\n",
      "[assume w1 (mem (lambda (p)(normal 0 3))) ]\n",
      "[assume w2 (mem (lambda (p)(normal 0 1))) ]\n",
      "[assume noise (mem (lambda (p) (gamma 2 1) )) ]\n",
      "[assume pivot (normal 0 5)]\n",
      "[assume p (lambda (x) (if (< x pivot) 0 1) ) ]\n",
      "\n",
      "[assume f (lambda (x w0 w1 w2) (+ w0 (* w1 x) (* w2 (* x x) ) ) ) ]\n",
      "\n",
      "\n",
      "[assume noise_p (lambda (fx p) (normal fx (noise p)) )] \n",
      "\n",
      "[assume y_x (lambda (x) \n",
      "                ( (lambda (p) (noise_p  (f x (w0 p) (w1 p) (w2 p)) p ) )\n",
      "                     (p x) ) ) ]\n",
      "\n",
      "[assume y (mem (lambda (i) (noise_p  (f (x i) (w0 (p (x i))) (w1 (p (x i))) (w2 (p (x i)) ))  (p (x i)) ) ) ) ]\n",
      "\n",
      "[assume y2 (mem (lambda (i) \n",
      "                ( (lambda (x p)\n",
      "                    (noise_p  (f x (w0 p) (w1 p) (w2 p)) p ) )\n",
      "                     (x i) (p (x i)) \n",
      "                     ) ) ) ]\n",
      "[assume n (gamma 1 1) ]\n",
      "'''\n",
      "#[assume f (lambda (x) (if (= (p x) 0)\n",
      "#(+ w0 (* w1 x) (* w2 (* x x) ) ) ) ]"
     ],
     "language": "python",
     "metadata": {},
     "outputs": [],
     "prompt_number": 7
    },
    {
     "cell_type": "code",
     "collapsed": false,
     "input": [
      "pivot_check='''\n",
      "[observe (x 0) 0]\n",
      "[observe pivot 20]\n",
      "[observe (w0 0) 0]\n",
      "[observe (w1 0) 1]\n",
      "[observe (w2 0) 0]\n",
      "[observe (noise 0) .01]'''\n",
      "\n",
      "def test_pivot(v):\n",
      "    v.execute_program(pivot_check)\n",
      "    v.infer(1)\n",
      "    assert v.predict('(= 0 (p (x 0)))')\n",
      "    assert 0 == v.predict('(f (x 0) (w0 (p 0)) (w1 (p 0)) (w2 (p 0)))')\n",
      "    assert .5 > (0 - v.assume('y0','(y 0)') ) # y0 close to 0\n",
      "    assert .5 > (0 - v.assume('y20','(y2 0)') ) # y0 close to 0\n",
      "    xys = [v.predict('(list (x %i) (y %i))' % (i,i)) for i in range(10) ];\n",
      "    xy2s = [v.predict('(list (x %i) (y2 %i))' % (i,i)) for i in range(10) ];\n",
      "    assert all( [ .5 > (xy[0] - xy[1]) for xy in xy2s ] )\n",
      "\n",
      "v_t=mk_l(); v_t.execute_program(x_model_crp+pivot_model)\n",
      "v_crp=mk_l(); v_crp.execute_program(x_model_t+pivot_model)\n",
      "[test_pivot(v) for v in [v_t,v_crp]]\n",
      "\n",
      "\n",
      "v=mk_c(); v.execute_program(x_model_t+pivot_model)\n",
      "no_sample_points = 500\n",
      "xs = [v.predict('(x %i)' % i) for i in range(no_sample_points) ] \n",
      "ys = [v.predict('(y %i)' % i) for i in range(no_sample_points) ]\n",
      "\n",
      "fig,ax = subplots(1,1, figsize=(6,3))\n",
      "ax.scatter(xs,ys,s=6); ax.set_xlim(min(xs)-1,max(xs)-1); ax.set_ylim(min(ys)-1,max(ys))\n",
      "hexbin_plot(xs,ys)\n",
      "#fig,ax = subplots()\n",
      "#sns.kdeplot(xs,ys,shade=True,cmap=None,ax=ax)"
     ],
     "language": "python",
     "metadata": {},
     "outputs": [
      {
       "metadata": {},
       "output_type": "pyout",
       "prompt_number": 8,
       "text": [
        "(<matplotlib.figure.Figure at 0xa64abac>,\n",
        " <matplotlib.axes.AxesSubplot at 0xa5edaec>)"
       ]
      },
      {
       "metadata": {},
       "output_type": "display_data",
       "png": "[encoded data removed]",
       "text": [
        "<matplotlib.figure.Figure at 0xab4424c>"
       ]
      },
      {
       "metadata": {},
       "output_type": "display_data",
       "png": "[encoded data removed]",
       "text": [
        "<matplotlib.figure.Figure at 0xa64abac>"
       ]
      }
     ],
     "prompt_number": 8
    },
    {
     "cell_type": "code",
     "collapsed": false,
     "input": [
      "clear_all_engines()\n",
      "v=MRipl(4,lite=lite,verbose=False)\n",
      "out=v.execute_program(x_model_crp+pivot_model); #v.execute_program(pivot_check)"
     ],
     "language": "python",
     "metadata": {},
     "outputs": [],
     "prompt_number": 57
    },
    {
     "cell_type": "code",
     "collapsed": false,
     "input": [
      "%%mr_map v plot_scatter store_scatter\n",
      "import numpy as np\n",
      "no_sample_points=200\n",
      "\n",
      "def plot_scatter(ripl):\n",
      "    # pull some x,y pairs from ripl\n",
      "    xs = [ripl.predict('(x %i)' % i) for i in range(no_sample_points) ]\n",
      "    ys = [ripl.predict('(y %i)' % i) for i in range(no_sample_points) ]\n",
      "    xr = np.linspace(min(xs),max(xs),100)\n",
      "    \n",
      "    # plot function f and some x,y pairs\n",
      "    fig,ax = plt.subplots(1,1,figsize=(8,2))\n",
      "    ax.scatter(xs,ys,s=6)\n",
      "    ax.set_ylim(-30,30)\n",
      "    return None"
     ],
     "language": "python",
     "metadata": {},
     "outputs": [
      {
       "ename": "CompositeError",
       "evalue": "one or more exceptions from call to method: execute\n[Engine Exception]EngineError: Engine 0 died while running task '84de75a9-27f8-429a-a7b5-8d1d6e806219'\n[Engine Exception]EngineError: Engine 1 died while running task '32ebc9d5-12fd-425e-86f0-ca344169f9da'",
       "output_type": "pyerr",
       "traceback": [
        "[Engine Exception]",
        "Traceback (most recent call last):",
        "  File \"/usr/local/lib/python2.7/dist-packages/IPython/parallel/client/client.py\", line 716, in _handle_stranded_msgs",
        "    raise error.EngineError(\"Engine %r died while running task %r\"%(eid, msg_id))",
        "EngineError: Engine 0 died while running task '84de75a9-27f8-429a-a7b5-8d1d6e806219'",
        "",
        "[Engine Exception]",
        "Traceback (most recent call last):",
        "  File \"/usr/local/lib/python2.7/dist-packages/IPython/parallel/client/client.py\", line 716, in _handle_stranded_msgs",
        "    raise error.EngineError(\"Engine %r died while running task %r\"%(eid, msg_id))",
        "EngineError: Engine 1 died while running task '32ebc9d5-12fd-425e-86f0-ca344169f9da'",
        ""
       ]
      }
     ],
     "prompt_number": 11
    },
    {
     "cell_type": "code",
     "collapsed": false,
     "input": [
      "# prior predictive should be symmetric\n",
      "v=MRipl(20,lite=lite,verbose=False)\n",
      "v.execute_program(x_model_t+pivot_model)\n",
      "no_sample_points = 100\n",
      "\n",
      "def lst_flatten(l): return [el for subl in l for el in subl]\n",
      "xs = lst_flatten( [v.predict('(x %i)' % i) for i in range(no_sample_points) ] )\n",
      "ys = lst_flatten( [v.predict('(y %i)' % i) for i in range(no_sample_points) ] )\n",
      "\n",
      "fig,ax = subplots(1,2, figsize=(12,5),sharex=True,sharey=True )\n",
      "ax[0].scatter(xs,ys,s=6)\n",
      "ax[1].hexbin(xs,ys,gridsize=40, cmap=\"BuGn\") #extent=(min(xs),max(x), min(y),max(y)) )\n",
      "#ax.set_xlim(-5,5)\n",
      "#ax.set_ylim(-10,10)"
     ],
     "language": "python",
     "metadata": {},
     "outputs": [
      {
       "ename": "NameError",
       "evalue": "name 'MRipl' is not defined",
       "output_type": "pyerr",
       "traceback": [
        "\u001b[1;31m---------------------------------------------------------------------------\u001b[0m\n\u001b[1;31mNameError\u001b[0m                                 Traceback (most recent call last)",
        "\u001b[1;32m<ipython-input-1-90916ade2450>\u001b[0m in \u001b[0;36m<module>\u001b[1;34m()\u001b[0m\n\u001b[0;32m      1\u001b[0m \u001b[1;31m# prior predictive should be symmetric\u001b[0m\u001b[1;33m\u001b[0m\u001b[1;33m\u001b[0m\u001b[0m\n\u001b[1;32m----> 2\u001b[1;33m \u001b[0mv\u001b[0m\u001b[1;33m=\u001b[0m\u001b[0mMRipl\u001b[0m\u001b[1;33m(\u001b[0m\u001b[1;36m20\u001b[0m\u001b[1;33m,\u001b[0m\u001b[0mlite\u001b[0m\u001b[1;33m=\u001b[0m\u001b[0mlite\u001b[0m\u001b[1;33m,\u001b[0m\u001b[0mverbose\u001b[0m\u001b[1;33m=\u001b[0m\u001b[0mFalse\u001b[0m\u001b[1;33m)\u001b[0m\u001b[1;33m\u001b[0m\u001b[0m\n\u001b[0m\u001b[0;32m      3\u001b[0m \u001b[0mv\u001b[0m\u001b[1;33m.\u001b[0m\u001b[0mexecute_program\u001b[0m\u001b[1;33m(\u001b[0m\u001b[0mx_model_t\u001b[0m\u001b[1;33m+\u001b[0m\u001b[0mpivot_model\u001b[0m\u001b[1;33m)\u001b[0m\u001b[1;33m\u001b[0m\u001b[0m\n\u001b[0;32m      4\u001b[0m \u001b[0mno_sample_points\u001b[0m \u001b[1;33m=\u001b[0m \u001b[1;36m100\u001b[0m\u001b[1;33m\u001b[0m\u001b[0m\n\u001b[0;32m      5\u001b[0m \u001b[1;33m\u001b[0m\u001b[0m\n",
        "\u001b[1;31mNameError\u001b[0m: name 'MRipl' is not defined"
       ]
      }
     ],
     "prompt_number": 1
    },
    {
     "cell_type": "code",
     "collapsed": false,
     "input": [
      "## FUNCTIONAS FROM SIMP_REGDEMO2,edit there\n",
      "\n",
      "# inference of pivot on sin data\n",
      "def generate_sin_data(n):\n",
      "    xs = np.random.normal(loc=0,scale=2.5,size=n)\n",
      "    ys = 3*np.sin(xs)\n",
      "    xys = zip(xs,ys)\n",
      "    fig,ax = subplots(figsize=(6,2))\n",
      "    ax.scatter(xs,ys); ax.set_title('Data for regression problem')\n",
      "    return xys\n",
      "\n",
      "# load data as observation for each mripl and do some inference\n",
      "def mripls_infer(vs,xys,no_transitions,n):\n",
      "    for i,(x,y) in enumerate(xys):\n",
      "        [v.observe('(x %i)' % i , '%f' % x) for v in vs]\n",
      "        [v.observe('(y %i)' % i , '%f' % y) for v in vs]\n",
      "    [v.observe('n','%i'%n) for v in vs]\n",
      "    [v.infer(no_transitions) for v in vs];"
     ],
     "language": "python",
     "metadata": {},
     "outputs": [
      {
       "output_type": "stream",
       "stream": "stderr",
       "text": [
        "/usr/lib/pymodules/python2.7/matplotlib/font_manager.py:1218: UserWarning: findfont: Font family ['Arial'] not found. Falling back to Bitstream Vera Sans\n",
        "  (prop.get_family(), self.defaultFamily[fontext]))\n",
        "/usr/lib/pymodules/python2.7/matplotlib/font_manager.py:1228: UserWarning: findfont: Could not match :family=Bitstream Vera Sans:style=normal:variant=normal:weight=normal:stretch=normal:size=10.0. Returning /usr/share/matplotlib/mpl-data/fonts/ttf/cmb10.ttf\n",
        "  UserWarning)\n",
        "/usr/lib/pymodules/python2.7/matplotlib/font_manager.py:1228: UserWarning: findfont: Could not match :family=Bitstream Vera Sans:style=normal:variant=normal:weight=normal:stretch=normal:size=12.0. Returning /usr/share/matplotlib/mpl-data/fonts/ttf/cmb10.ttf\n",
        "  UserWarning)\n"
       ]
      },
      {
       "metadata": {},
       "output_type": "display_data",
       "png": "[encoded data removed]",
       "text": [
        "<matplotlib.figure.Figure at 0xafa584c>"
       ]
      }
     ],
     "prompt_number": 3
    },
    {
     "cell_type": "code",
     "collapsed": false,
     "input": [
      "quad_fourier_model='''\n",
      "[assume w0 (normal 0 3) ]\n",
      "[assume w1 (normal 0 3) ]\n",
      "[assume w2 (normal 0 3) ]\n",
      "[assume omega (normal 0 3) ]\n",
      "[assume theta (normal 0 3) ]\n",
      "[assume noise (gamma 1 1) ]\n",
      "\n",
      "[assume model (if (flip) 1 0) ]\n",
      "[assume quadratic (lambda (x) (+ w0 (* w1 x) (* w2 (* x x) ) ) ) ]\n",
      "[assume fourier (lambda (x) (+ w0 (* w1 (sin (+ (* omega x) theta) ) ) ) ) ]\n",
      "[assume f (if (= model 0) quadratic fourier) ]\n",
      "\n",
      "[assume y (mem (lambda (i) (normal (f (x i) ) noise) ) )]\n",
      "[assume n (gamma 1 1)]\n",
      "'''"
     ],
     "language": "python",
     "metadata": {},
     "outputs": [],
     "prompt_number": 5
    },
    {
     "cell_type": "code",
     "collapsed": false,
     "input": [
      "quad_fourier_checks='''\n",
      "[observe (x 0) 0.]\n",
      "[observe w0 0.]\n",
      "[observe w1 1.]\n",
      "[observe w2 0.]\n",
      "[observe model 0]\n",
      "[observe noise .01]\n",
      "'''\n",
      "v=make_lite_church_prime_ripl()\n",
      "v.execute_program(x_model_t + quad_fourier_model);#v.execute_program(quad_fourier_checks)\n",
      "\n",
      "v.infer(1)\n",
      "print v.predict('(x 0)')\n",
      "print v.predict('model')\n",
      "print v.predict('(list (f 0) (y 0))')\n",
      "assert .5 > abs( (0 - v.predict('(y 0)') ) )\n",
      "xfs = [v.predict('(list x (f (x %i) ))' % i) for i in range(10) ]\n",
      "xys = [v.predict('(list (x %i) (y %i))' % (i,i)) for i in range(10) ];\n",
      "assert all( [ .5 > (xy[0] - xy[1]) for xy in xys ] )\n",
      "assert all( [ xf[1] - xy[1] for (xf,xy) in zip(xfs,xys) ] )\n",
      "\n",
      "#for i,(x,y) in enumerate(xys):\n",
      "#    vqf.observe('(x %i)' % i , '%f' % x) \n",
      "#    vqf.observe('(y %i)' % i , '%f' % y)\n",
      "#vqf.observe('n','%i' % n)\n",
      "#vqf.infer(no_transitions);      "
     ],
     "language": "python",
     "metadata": {},
     "outputs": [
      {
       "metadata": {},
       "output_type": "pyout",
       "prompt_number": 7,
       "text": [
        "[{'directive_id': 1,\n",
        "  'value': {'type': 'SP', 'value': <venture.lite.value.SPRef at 0xa51506c>}},\n",
        " {'directive_id': 2,\n",
        "  'value': {'type': 'SP', 'value': <venture.lite.value.SPRef at 0xa505aac>}},\n",
        " {'directive_id': 3,\n",
        "  'value': {'type': 'SP', 'value': <venture.lite.value.SPRef at 0x9efe14c>}},\n",
        " {'directive_id': 4,\n",
        "  'value': {'type': 'SP', 'value': <venture.lite.value.SPRef at 0x9efe5ec>}},\n",
        " {'directive_id': 5,\n",
        "  'value': {'type': 'SP', 'value': <venture.lite.value.SPRef at 0x9f01d2c>}},\n",
        " {'directive_id': 6, 'value': {'type': 'number', 'value': 6.691461477386954}},\n",
        " {'directive_id': 7,\n",
        "  'value': {'type': 'SP', 'value': <venture.lite.value.SPRef at 0x9f043cc>}},\n",
        " {'directive_id': 8,\n",
        "  'value': {'type': 'SP', 'value': <venture.lite.value.SPRef at 0x9f0456c>}},\n",
        " {'directive_id': 9,\n",
        "  'value': {'type': 'SP', 'value': <venture.lite.value.SPRef at 0x9f0814c>}},\n",
        " {'directive_id': 10,\n",
        "  'value': {'type': 'SP', 'value': <venture.lite.value.SPRef at 0x9f0d90c>}}]"
       ]
      }
     ],
     "prompt_number": 7
    },
    {
     "cell_type": "code",
     "collapsed": false,
     "input": [
      "clear_all_engines()\n",
      "vp=MRipl(8,lite=lite,verbose=False); vp.execute_program(x_model_t+pivot_model); \n",
      "vqf = MRipl(8,lite=lite,verbose=False); vqf.execute_program(x_model_t+quad_fourier_model); \n",
      "vs = [vp,vqf]\n",
      "n=15; no_transitions=200\n",
      "xys = generate_sin_data(15)\n",
      "mripls_infer(vs,xys,no_transitions,n)"
     ],
     "language": "python",
     "metadata": {},
     "outputs": [
      {
       "metadata": {},
       "output_type": "display_data",
       "png": "[encoded data removed]",
       "text": [
        "<matplotlib.figure.Figure at 0xafccd0c>"
       ]
      }
     ],
     "prompt_number": 8
    },
    {
     "cell_type": "code",
     "collapsed": false,
     "input": [
      "# Comparing model performance using the mean logscore\n",
      "mean_logscores = [ np.mean( v.get_global_logscore() ) for v in vs ]\n",
      "print 'logscores. [pivot,quad_fourier] = ',mean_logscores"
     ],
     "language": "python",
     "metadata": {},
     "outputs": [
      {
       "output_type": "stream",
       "stream": "stdout",
       "text": [
        "logscores. [pivot,quad_fourier] =  [-117.10443392862528, -105.67135516416171]\n"
       ]
      }
     ],
     "prompt_number": 9
    },
    {
     "cell_type": "code",
     "collapsed": false,
     "input": [
      "%%mr_map vp plot_scatter store_post_scatter 2\n",
      "pass"
     ],
     "language": "python",
     "metadata": {},
     "outputs": [
      {
       "ename": "NoEnginesRegistered",
       "evalue": "Can't build targets without any engines",
       "output_type": "pyerr",
       "traceback": [
        "\u001b[1;31m---------------------------------------------------------------------------\u001b[0m\n\u001b[1;31mNoEnginesRegistered\u001b[0m                       Traceback (most recent call last)",
        "\u001b[1;32m<ipython-input-13-a30c921eef9e>\u001b[0m in \u001b[0;36m<module>\u001b[1;34m()\u001b[0m\n\u001b[1;32m----> 1\u001b[1;33m \u001b[0mget_ipython\u001b[0m\u001b[1;33m(\u001b[0m\u001b[1;33m)\u001b[0m\u001b[1;33m.\u001b[0m\u001b[0mrun_cell_magic\u001b[0m\u001b[1;33m(\u001b[0m\u001b[1;34mu'mr_map'\u001b[0m\u001b[1;33m,\u001b[0m \u001b[1;34mu'vp plot_scatter store_post_scatter 2'\u001b[0m\u001b[1;33m,\u001b[0m \u001b[1;34mu'pass'\u001b[0m\u001b[1;33m)\u001b[0m\u001b[1;33m\u001b[0m\u001b[0m\n\u001b[0m",
        "\u001b[1;32m/usr/local/lib/python2.7/dist-packages/IPython/core/interactiveshell.pyc\u001b[0m in \u001b[0;36mrun_cell_magic\u001b[1;34m(self, magic_name, line, cell)\u001b[0m\n\u001b[0;32m   2127\u001b[0m             \u001b[0mmagic_arg_s\u001b[0m \u001b[1;33m=\u001b[0m \u001b[0mself\u001b[0m\u001b[1;33m.\u001b[0m\u001b[0mvar_expand\u001b[0m\u001b[1;33m(\u001b[0m\u001b[0mline\u001b[0m\u001b[1;33m,\u001b[0m \u001b[0mstack_depth\u001b[0m\u001b[1;33m)\u001b[0m\u001b[1;33m\u001b[0m\u001b[0m\n\u001b[0;32m   2128\u001b[0m             \u001b[1;32mwith\u001b[0m \u001b[0mself\u001b[0m\u001b[1;33m.\u001b[0m\u001b[0mbuiltin_trap\u001b[0m\u001b[1;33m:\u001b[0m\u001b[1;33m\u001b[0m\u001b[0m\n\u001b[1;32m-> 2129\u001b[1;33m                 \u001b[0mresult\u001b[0m \u001b[1;33m=\u001b[0m \u001b[0mfn\u001b[0m\u001b[1;33m(\u001b[0m\u001b[0mmagic_arg_s\u001b[0m\u001b[1;33m,\u001b[0m \u001b[0mcell\u001b[0m\u001b[1;33m)\u001b[0m\u001b[1;33m\u001b[0m\u001b[0m\n\u001b[0m\u001b[0;32m   2130\u001b[0m             \u001b[1;32mreturn\u001b[0m \u001b[0mresult\u001b[0m\u001b[1;33m\u001b[0m\u001b[0m\n\u001b[0;32m   2131\u001b[0m \u001b[1;33m\u001b[0m\u001b[0m\n",
        "\u001b[1;32m/usr/local/lib/python2.7/dist-packages/venture/venturemagics/ip_parallel.pyc\u001b[0m in \u001b[0;36mmr_map\u001b[1;34m(line, cell)\u001b[0m\n\u001b[0;32m    649\u001b[0m \u001b[1;33m\u001b[0m\u001b[0m\n\u001b[0;32m    650\u001b[0m     \u001b[1;31m# execute cell input across engines to define function\u001b[0m\u001b[1;33m\u001b[0m\u001b[1;33m\u001b[0m\u001b[0m\n\u001b[1;32m--> 651\u001b[1;33m     \u001b[0mip\u001b[0m\u001b[1;33m.\u001b[0m\u001b[0mrun_cell_magic\u001b[0m\u001b[1;33m(\u001b[0m\u001b[1;34m\"px\"\u001b[0m\u001b[1;33m,\u001b[0m \u001b[1;34m''\u001b[0m\u001b[1;33m,\u001b[0m \u001b[0mcell\u001b[0m\u001b[1;33m)\u001b[0m\u001b[1;33m\u001b[0m\u001b[0m\n\u001b[0m\u001b[0;32m    652\u001b[0m     \u001b[0mmripl\u001b[0m\u001b[1;33m.\u001b[0m\u001b[0mdview\u001b[0m\u001b[1;33m.\u001b[0m\u001b[0mexecute\u001b[0m\u001b[1;33m(\u001b[0m\u001b[0madd_results_list_string\u001b[0m\u001b[1;33m)\u001b[0m\u001b[1;33m\u001b[0m\u001b[0m\n\u001b[0;32m    653\u001b[0m \u001b[1;33m\u001b[0m\u001b[0m\n",
        "\u001b[1;32m/usr/local/lib/python2.7/dist-packages/IPython/core/interactiveshell.pyc\u001b[0m in \u001b[0;36mrun_cell_magic\u001b[1;34m(self, magic_name, line, cell)\u001b[0m\n\u001b[0;32m   2127\u001b[0m             \u001b[0mmagic_arg_s\u001b[0m \u001b[1;33m=\u001b[0m \u001b[0mself\u001b[0m\u001b[1;33m.\u001b[0m\u001b[0mvar_expand\u001b[0m\u001b[1;33m(\u001b[0m\u001b[0mline\u001b[0m\u001b[1;33m,\u001b[0m \u001b[0mstack_depth\u001b[0m\u001b[1;33m)\u001b[0m\u001b[1;33m\u001b[0m\u001b[0m\n\u001b[0;32m   2128\u001b[0m             \u001b[1;32mwith\u001b[0m \u001b[0mself\u001b[0m\u001b[1;33m.\u001b[0m\u001b[0mbuiltin_trap\u001b[0m\u001b[1;33m:\u001b[0m\u001b[1;33m\u001b[0m\u001b[0m\n\u001b[1;32m-> 2129\u001b[1;33m                 \u001b[0mresult\u001b[0m \u001b[1;33m=\u001b[0m \u001b[0mfn\u001b[0m\u001b[1;33m(\u001b[0m\u001b[0mmagic_arg_s\u001b[0m\u001b[1;33m,\u001b[0m \u001b[0mcell\u001b[0m\u001b[1;33m)\u001b[0m\u001b[1;33m\u001b[0m\u001b[0m\n\u001b[0m\u001b[0;32m   2130\u001b[0m             \u001b[1;32mreturn\u001b[0m \u001b[0mresult\u001b[0m\u001b[1;33m\u001b[0m\u001b[0m\n\u001b[0;32m   2131\u001b[0m \u001b[1;33m\u001b[0m\u001b[0m\n",
        "\u001b[1;32m/usr/local/lib/python2.7/dist-packages/IPython/parallel/client/magics.pyc\u001b[0m in \u001b[0;36mcell_px\u001b[1;34m(self, line, cell)\u001b[0m\n\u001b[0;32m    300\u001b[0m             ar = self.parallel_execute(cell, block=block,\n\u001b[0;32m    301\u001b[0m                                 \u001b[0mgroupby\u001b[0m\u001b[1;33m=\u001b[0m\u001b[0margs\u001b[0m\u001b[1;33m.\u001b[0m\u001b[0mgroupby\u001b[0m\u001b[1;33m,\u001b[0m\u001b[1;33m\u001b[0m\u001b[0m\n\u001b[1;32m--> 302\u001b[1;33m                                 \u001b[0msave_name\u001b[0m\u001b[1;33m=\u001b[0m\u001b[0margs\u001b[0m\u001b[1;33m.\u001b[0m\u001b[0msave_name\u001b[0m\u001b[1;33m,\u001b[0m\u001b[1;33m\u001b[0m\u001b[0m\n\u001b[0m\u001b[0;32m    303\u001b[0m             )\n\u001b[0;32m    304\u001b[0m         \u001b[1;32mfinally\u001b[0m\u001b[1;33m:\u001b[0m\u001b[1;33m\u001b[0m\u001b[0m\n",
        "\u001b[1;32m/usr/local/lib/python2.7/dist-packages/IPython/parallel/client/magics.pyc\u001b[0m in \u001b[0;36mparallel_execute\u001b[1;34m(self, cell, block, groupby, save_name)\u001b[0m\n\u001b[0;32m    254\u001b[0m             \u001b[1;32mprint\u001b[0m \u001b[0mbase\u001b[0m \u001b[1;33m+\u001b[0m \u001b[1;34m\" execution on engine(s): %s\"\u001b[0m \u001b[1;33m%\u001b[0m \u001b[0mstr_targets\u001b[0m\u001b[1;33m\u001b[0m\u001b[0m\n\u001b[0;32m    255\u001b[0m \u001b[1;33m\u001b[0m\u001b[0m\n\u001b[1;32m--> 256\u001b[1;33m         \u001b[0mresult\u001b[0m \u001b[1;33m=\u001b[0m \u001b[0mself\u001b[0m\u001b[1;33m.\u001b[0m\u001b[0mview\u001b[0m\u001b[1;33m.\u001b[0m\u001b[0mexecute\u001b[0m\u001b[1;33m(\u001b[0m\u001b[0mcell\u001b[0m\u001b[1;33m,\u001b[0m \u001b[0msilent\u001b[0m\u001b[1;33m=\u001b[0m\u001b[0mFalse\u001b[0m\u001b[1;33m,\u001b[0m \u001b[0mblock\u001b[0m\u001b[1;33m=\u001b[0m\u001b[0mFalse\u001b[0m\u001b[1;33m)\u001b[0m\u001b[1;33m\u001b[0m\u001b[0m\n\u001b[0m\u001b[0;32m    257\u001b[0m         \u001b[0mself\u001b[0m\u001b[1;33m.\u001b[0m\u001b[0mlast_result\u001b[0m \u001b[1;33m=\u001b[0m \u001b[0mresult\u001b[0m\u001b[1;33m\u001b[0m\u001b[0m\n\u001b[0;32m    258\u001b[0m \u001b[1;33m\u001b[0m\u001b[0m\n",
        "\u001b[1;32m/usr/local/lib/python2.7/dist-packages/IPython/parallel/client/view.pyc\u001b[0m in \u001b[0;36mexecute\u001b[1;34m(self, code, silent, targets, block)\u001b[0m\n",
        "\u001b[1;32m/usr/local/lib/python2.7/dist-packages/IPython/parallel/client/view.pyc\u001b[0m in \u001b[0;36msync_results\u001b[1;34m(f, self, *args, **kwargs)\u001b[0m\n\u001b[0;32m     61\u001b[0m     \u001b[0mself\u001b[0m\u001b[1;33m.\u001b[0m\u001b[0m_in_sync_results\u001b[0m \u001b[1;33m=\u001b[0m \u001b[0mTrue\u001b[0m\u001b[1;33m\u001b[0m\u001b[0m\n\u001b[0;32m     62\u001b[0m     \u001b[1;32mtry\u001b[0m\u001b[1;33m:\u001b[0m\u001b[1;33m\u001b[0m\u001b[0m\n\u001b[1;32m---> 63\u001b[1;33m         \u001b[0mret\u001b[0m \u001b[1;33m=\u001b[0m \u001b[0mf\u001b[0m\u001b[1;33m(\u001b[0m\u001b[0mself\u001b[0m\u001b[1;33m,\u001b[0m \u001b[1;33m*\u001b[0m\u001b[0margs\u001b[0m\u001b[1;33m,\u001b[0m \u001b[1;33m**\u001b[0m\u001b[0mkwargs\u001b[0m\u001b[1;33m)\u001b[0m\u001b[1;33m\u001b[0m\u001b[0m\n\u001b[0m\u001b[0;32m     64\u001b[0m     \u001b[1;32mfinally\u001b[0m\u001b[1;33m:\u001b[0m\u001b[1;33m\u001b[0m\u001b[0m\n\u001b[0;32m     65\u001b[0m         \u001b[0mself\u001b[0m\u001b[1;33m.\u001b[0m\u001b[0m_in_sync_results\u001b[0m \u001b[1;33m=\u001b[0m \u001b[0mFalse\u001b[0m\u001b[1;33m\u001b[0m\u001b[0m\n",
        "\u001b[1;32m/usr/local/lib/python2.7/dist-packages/IPython/parallel/client/view.pyc\u001b[0m in \u001b[0;36mexecute\u001b[1;34m(self, code, silent, targets, block)\u001b[0m\n",
        "\u001b[1;32m/usr/local/lib/python2.7/dist-packages/IPython/parallel/client/view.pyc\u001b[0m in \u001b[0;36msave_ids\u001b[1;34m(f, self, *args, **kwargs)\u001b[0m\n\u001b[0;32m     46\u001b[0m     \u001b[0mn_previous\u001b[0m \u001b[1;33m=\u001b[0m \u001b[0mlen\u001b[0m\u001b[1;33m(\u001b[0m\u001b[0mself\u001b[0m\u001b[1;33m.\u001b[0m\u001b[0mclient\u001b[0m\u001b[1;33m.\u001b[0m\u001b[0mhistory\u001b[0m\u001b[1;33m)\u001b[0m\u001b[1;33m\u001b[0m\u001b[0m\n\u001b[0;32m     47\u001b[0m     \u001b[1;32mtry\u001b[0m\u001b[1;33m:\u001b[0m\u001b[1;33m\u001b[0m\u001b[0m\n\u001b[1;32m---> 48\u001b[1;33m         \u001b[0mret\u001b[0m \u001b[1;33m=\u001b[0m \u001b[0mf\u001b[0m\u001b[1;33m(\u001b[0m\u001b[0mself\u001b[0m\u001b[1;33m,\u001b[0m \u001b[1;33m*\u001b[0m\u001b[0margs\u001b[0m\u001b[1;33m,\u001b[0m \u001b[1;33m**\u001b[0m\u001b[0mkwargs\u001b[0m\u001b[1;33m)\u001b[0m\u001b[1;33m\u001b[0m\u001b[0m\n\u001b[0m\u001b[0;32m     49\u001b[0m     \u001b[1;32mfinally\u001b[0m\u001b[1;33m:\u001b[0m\u001b[1;33m\u001b[0m\u001b[0m\n\u001b[0;32m     50\u001b[0m         \u001b[0mnmsgs\u001b[0m \u001b[1;33m=\u001b[0m \u001b[0mlen\u001b[0m\u001b[1;33m(\u001b[0m\u001b[0mself\u001b[0m\u001b[1;33m.\u001b[0m\u001b[0mclient\u001b[0m\u001b[1;33m.\u001b[0m\u001b[0mhistory\u001b[0m\u001b[1;33m)\u001b[0m \u001b[1;33m-\u001b[0m \u001b[0mn_previous\u001b[0m\u001b[1;33m\u001b[0m\u001b[0m\n",
        "\u001b[1;32m/usr/local/lib/python2.7/dist-packages/IPython/parallel/client/view.pyc\u001b[0m in \u001b[0;36mexecute\u001b[1;34m(self, code, silent, targets, block)\u001b[0m\n\u001b[0;32m    634\u001b[0m         \u001b[0mtargets\u001b[0m \u001b[1;33m=\u001b[0m \u001b[0mself\u001b[0m\u001b[1;33m.\u001b[0m\u001b[0mtargets\u001b[0m \u001b[1;32mif\u001b[0m \u001b[0mtargets\u001b[0m \u001b[1;32mis\u001b[0m \u001b[0mNone\u001b[0m \u001b[1;32melse\u001b[0m \u001b[0mtargets\u001b[0m\u001b[1;33m\u001b[0m\u001b[0m\n\u001b[0;32m    635\u001b[0m \u001b[1;33m\u001b[0m\u001b[0m\n\u001b[1;32m--> 636\u001b[1;33m         \u001b[0m_idents\u001b[0m\u001b[1;33m,\u001b[0m \u001b[0m_targets\u001b[0m \u001b[1;33m=\u001b[0m \u001b[0mself\u001b[0m\u001b[1;33m.\u001b[0m\u001b[0mclient\u001b[0m\u001b[1;33m.\u001b[0m\u001b[0m_build_targets\u001b[0m\u001b[1;33m(\u001b[0m\u001b[0mtargets\u001b[0m\u001b[1;33m)\u001b[0m\u001b[1;33m\u001b[0m\u001b[0m\n\u001b[0m\u001b[0;32m    637\u001b[0m         \u001b[0mmsg_ids\u001b[0m \u001b[1;33m=\u001b[0m \u001b[1;33m[\u001b[0m\u001b[1;33m]\u001b[0m\u001b[1;33m\u001b[0m\u001b[0m\n\u001b[0;32m    638\u001b[0m         \u001b[0mtrackers\u001b[0m \u001b[1;33m=\u001b[0m \u001b[1;33m[\u001b[0m\u001b[1;33m]\u001b[0m\u001b[1;33m\u001b[0m\u001b[0m\n",
        "\u001b[1;32m/usr/local/lib/python2.7/dist-packages/IPython/parallel/client/client.pyc\u001b[0m in \u001b[0;36m_build_targets\u001b[1;34m(self, targets)\u001b[0m\n\u001b[0;32m    563\u001b[0m             \u001b[1;31m# flush notification socket if no engines yet, just in case\u001b[0m\u001b[1;33m\u001b[0m\u001b[1;33m\u001b[0m\u001b[0m\n\u001b[0;32m    564\u001b[0m             \u001b[1;32mif\u001b[0m \u001b[1;32mnot\u001b[0m \u001b[0mself\u001b[0m\u001b[1;33m.\u001b[0m\u001b[0mids\u001b[0m\u001b[1;33m:\u001b[0m\u001b[1;33m\u001b[0m\u001b[0m\n\u001b[1;32m--> 565\u001b[1;33m                 \u001b[1;32mraise\u001b[0m \u001b[0merror\u001b[0m\u001b[1;33m.\u001b[0m\u001b[0mNoEnginesRegistered\u001b[0m\u001b[1;33m(\u001b[0m\u001b[1;34m\"Can't build targets without any engines\"\u001b[0m\u001b[1;33m)\u001b[0m\u001b[1;33m\u001b[0m\u001b[0m\n\u001b[0m\u001b[0;32m    566\u001b[0m \u001b[1;33m\u001b[0m\u001b[0m\n\u001b[0;32m    567\u001b[0m         \u001b[1;32mif\u001b[0m \u001b[0mtargets\u001b[0m \u001b[1;32mis\u001b[0m \u001b[0mNone\u001b[0m\u001b[1;33m:\u001b[0m\u001b[1;33m\u001b[0m\u001b[0m\n",
        "\u001b[1;31mNoEnginesRegistered\u001b[0m: Can't build targets without any engines"
       ]
      }
     ],
     "prompt_number": 13
    },
    {
     "cell_type": "code",
     "collapsed": false,
     "input": [
      "%%mr_map vqf plot_curves store_plot_q 2"
     ],
     "language": "python",
     "metadata": {},
     "outputs": []
    }
   ],
   "metadata": {}
  }
 ]
}