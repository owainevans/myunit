{
 "metadata": {
  "name": ""
 },
 "nbformat": 3,
 "nbformat_minor": 0,
 "worksheets": [
  {
   "cells": [
    {
     "cell_type": "code",
     "collapsed": false,
     "input": [
      "from venture.venturemagics.ip_parallel import *\n",
      "import numpy as np\n",
      "\n",
      "lite = True # fix backend\n",
      "\n",
      "clear_all_engines() # clear ipcluster engines"
     ],
     "language": "python",
     "metadata": {},
     "outputs": [],
     "prompt_number": 8
    },
    {
     "cell_type": "code",
     "collapsed": false,
     "input": [
      "def spr():\n",
      "    clear_all_engines()\n",
      "    v=MRipl(2,lite=lite)\n",
      "    v.assume('r','(normal 0 30)',label='r')  # RAIN\n",
      "    v.assume('s','(normal 0 30)',label='s') # SPRINKLER\n",
      "    v.assume('w','(lambda () (normal (+ r s) 5.))',label='w')   # WETNESS OF GRASS IS ADDITIVE IN RAIN, SPRINKLER\n",
      "    v.observe('(w)','50.',label='w1')\n",
      "    v.observe('(normal (w) 3.)','50.',label='w2')"
     ],
     "language": "python",
     "metadata": {},
     "outputs": [],
     "prompt_number": 9
    },
    {
     "cell_type": "code",
     "collapsed": false,
     "input": [
      "spr()\n",
      "print v.get_global_logscore()\n",
      "print v.snapshot([],logscore=1)['values']['global_logscore']\n",
      "v.infer(30)\n",
      "print '--------'\n",
      "print v.get_global_logscore()\n",
      "print v.snapshot([],logscore=1)['values']['global_logscore']"
     ],
     "language": "python",
     "metadata": {},
     "outputs": [
      {
       "output_type": "stream",
       "stream": "stdout",
       "text": [
        "['(pid, index, seed)', (2267, 0, 0), (2269, 0, 1)]\n",
        "[-22.084230387410962, -18.310526142389179]"
       ]
      },
      {
       "output_type": "stream",
       "stream": "stdout",
       "text": [
        "\n",
        "[-22.084230387410962, -18.310526142389179]"
       ]
      },
      {
       "output_type": "stream",
       "stream": "stdout",
       "text": [
        "\n",
        "--------"
       ]
      },
      {
       "output_type": "stream",
       "stream": "stdout",
       "text": [
        "\n",
        "[-18.108586421572877, -17.554006198538573]"
       ]
      },
      {
       "output_type": "stream",
       "stream": "stdout",
       "text": [
        "\n",
        "[-18.108586421572877, -17.554006198538573]"
       ]
      },
      {
       "output_type": "stream",
       "stream": "stdout",
       "text": [
        "\n"
       ]
      }
     ],
     "prompt_number": 11
    },
    {
     "cell_type": "code",
     "collapsed": false,
     "input": [
      "spr()\n",
      "out= v.probes(logscore=True,no_transitions=30)\n",
      "out['series']"
     ],
     "language": "python",
     "metadata": {},
     "outputs": [
      {
       "output_type": "stream",
       "stream": "stdout",
       "text": [
        "['(pid, index, seed)', (2267, 0, 0), (2269, 0, 1)]\n"
       ]
      },
      {
       "metadata": {},
       "output_type": "pyout",
       "prompt_number": 12,
       "text": [
        "[[-22.084230387410965, -18.310526142389179],\n",
        " [-18.108586421572877, -17.554006198538573]]"
       ]
      }
     ],
     "prompt_number": 12
    },
    {
     "cell_type": "code",
     "collapsed": false,
     "input": [
      "v.probes("
     ],
     "language": "python",
     "metadata": {},
     "outputs": []
    }
   ],
   "metadata": {}
  }
 ]
}