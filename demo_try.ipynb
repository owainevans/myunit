{
 "metadata": {
  "name": ""
 },
 "nbformat": 3,
 "nbformat_minor": 0,
 "worksheets": [
  {
   "cells": [
    {
     "cell_type": "code",
     "collapsed": false,
     "input": [
      "from int_ip_parallel import *\n",
      "import numpy as np\n",
      "\n",
      "lite = True # fix backend\n",
      "\n",
      "clear_all_engines() # clear ipcluster engines"
     ],
     "language": "python",
     "metadata": {},
     "outputs": [],
     "prompt_number": 7
    },
    {
     "cell_type": "code",
     "collapsed": false,
     "input": [
      "v=MRipl(2,lite=lite)"
     ],
     "language": "python",
     "metadata": {},
     "outputs": [
      {
       "output_type": "stream",
       "stream": "stdout",
       "text": [
        "['(pid, index, seed)', (2267, 0, 0), (2269, 0, 1)]\n"
       ]
      }
     ],
     "prompt_number": 8
    },
    {
     "cell_type": "code",
     "collapsed": false,
     "input": [
      "v.assume('r','(normal 0 30)',label='r')  # RAIN\n",
      "v.assume('s','(normal 0 30)',label='s') # SPRINKLER\n",
      "v.assume('w','(lambda () (normal (+ r s) 5.))',label='w')   # WETNESS OF GRASS IS ADDITIVE IN RAIN, SPRINKLER\n",
      "v.observe('(w)','50.',label='w1')\n",
      "v.observe('(normal (w) 3.)','50.',label='w2')"
     ],
     "language": "python",
     "metadata": {},
     "outputs": [
      {
       "metadata": {},
       "output_type": "pyout",
       "prompt_number": 9,
       "text": [
        "[None, None]"
       ]
      }
     ],
     "prompt_number": 9
    },
    {
     "cell_type": "code",
     "collapsed": false,
     "input": [
      "v.get_global_logscore()"
     ],
     "language": "python",
     "metadata": {},
     "outputs": [
      {
       "metadata": {},
       "output_type": "pyout",
       "prompt_number": 4,
       "text": [
        "[-22.084230387410962, -18.310526142389179]"
       ]
      }
     ],
     "prompt_number": 4
    },
    {
     "cell_type": "code",
     "collapsed": false,
     "input": [
      "v.snapshot([],logscore=1)"
     ],
     "language": "python",
     "metadata": {},
     "outputs": [
      {
       "metadata": {},
       "output_type": "pyout",
       "prompt_number": 11,
       "text": [
        "{'ripls_info': [{'index': 0,\n",
        "   'pid': 2267,\n",
        "   'ripl': '<venture.ripl.ripl.Ripl instance at 0xbae17ec>',\n",
        "   'seed': 0},\n",
        "  {'index': 0,\n",
        "   'pid': 2269,\n",
        "   'ripl': '<venture.ripl.ripl.Ripl instance at 0xc0aa66c>',\n",
        "   'seed': 1}],\n",
        " 'total_transitions': 0,\n",
        " 'values': {'log': [-22.084230387410965, -18.310526142389183]}}"
       ]
      }
     ],
     "prompt_number": 11
    },
    {
     "cell_type": "code",
     "collapsed": false,
     "input": [],
     "language": "python",
     "metadata": {},
     "outputs": []
    }
   ],
   "metadata": {}
  }
 ]
}