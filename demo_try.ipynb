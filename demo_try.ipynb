{
 "metadata": {
  "name": ""
 },
 "nbformat": 3,
 "nbformat_minor": 0,
 "worksheets": [
  {
   "cells": [
    {
     "cell_type": "code",
     "collapsed": false,
     "input": [
      "from venture.venturemagics.ip_parallel import *\n",
      "import numpy as np\n",
      "import matplotlib.pylab as plt\n",
      "%pylab inline\n",
      "\n",
      "lite = True # fix backend\n",
      "\n",
      "clear_all_engines() # clear ipcluster engines"
     ],
     "language": "python",
     "metadata": {},
     "outputs": [
      {
       "output_type": "stream",
       "stream": "stdout",
       "text": [
        "Populating the interactive namespace from numpy and matplotlib\n"
       ]
      },
      {
       "output_type": "stream",
       "stream": "stderr",
       "text": [
        "WARNING: pylab import has clobbered these variables: ['plt', 'interactive']\n",
        "`%pylab --no-import-all` prevents importing * from pylab and numpy\n"
       ]
      }
     ],
     "prompt_number": 60
    },
    {
     "cell_type": "code",
     "collapsed": false,
     "input": [
      "def spr():\n",
      "    clear_all_engines()\n",
      "    v=MRipl(2,lite=lite)\n",
      "    v.assume('r','(normal 0 30)',label='r')  # RAIN\n",
      "    v.assume('s','(normal 0 30)',label='s') # SPRINKLER\n",
      "    v.assume('w','(lambda () (normal (+ r s) 5.))',label='w')   # WETNESS OF GRASS IS ADDITIVE IN RAIN, SPRINKLER\n",
      "    v.observe('(w)','50.',label='w1')\n",
      "    v.observe('(normal (w) 3.)','50.',label='w2')"
     ],
     "language": "python",
     "metadata": {},
     "outputs": [],
     "prompt_number": 9
    },
    {
     "cell_type": "code",
     "collapsed": false,
     "input": [
      "spr()\n",
      "print v.get_global_logscore()\n",
      "print v.snapshot([],logscore=1)['values']['global_logscore']\n",
      "v.infer(30)\n",
      "print '--------'\n",
      "print v.get_global_logscore()\n",
      "print v.snapshot([],logscore=1)['values']['global_logscore']"
     ],
     "language": "python",
     "metadata": {},
     "outputs": [
      {
       "output_type": "stream",
       "stream": "stdout",
       "text": [
        "['(pid, index, seed)', (2267, 0, 0), (2269, 0, 1)]\n",
        "[-22.084230387410962, -18.310526142389179]"
       ]
      },
      {
       "output_type": "stream",
       "stream": "stdout",
       "text": [
        "\n",
        "[-22.084230387410962, -18.310526142389179]"
       ]
      },
      {
       "output_type": "stream",
       "stream": "stdout",
       "text": [
        "\n",
        "--------"
       ]
      },
      {
       "output_type": "stream",
       "stream": "stdout",
       "text": [
        "\n",
        "[-18.108586421572877, -17.554006198538573]"
       ]
      },
      {
       "output_type": "stream",
       "stream": "stdout",
       "text": [
        "\n",
        "[-18.108586421572877, -17.554006198538573]"
       ]
      },
      {
       "output_type": "stream",
       "stream": "stdout",
       "text": [
        "\n"
       ]
      }
     ],
     "prompt_number": 11
    },
    {
     "cell_type": "code",
     "collapsed": false,
     "input": [
      "spr()\n",
      "out= v.probes(logscore=True,no_transitions=30)\n",
      "out['series']"
     ],
     "language": "python",
     "metadata": {},
     "outputs": [
      {
       "output_type": "stream",
       "stream": "stdout",
       "text": [
        "['(pid, index, seed)', (2267, 0, 0), (2269, 0, 1)]\n"
       ]
      },
      {
       "metadata": {},
       "output_type": "pyout",
       "prompt_number": 12,
       "text": [
        "[[-22.084230387410965, -18.310526142389179],\n",
        " [-18.108586421572877, -17.554006198538573]]"
       ]
      }
     ],
     "prompt_number": 12
    },
    {
     "cell_type": "code",
     "collapsed": false,
     "input": [
      "model='''\n",
      "[assume noise_f (mem (lambda (i) (gamma 1 5) ) ) ]\n",
      "[assume noise (gamma 1 5) ]\n",
      "\n",
      "[assume w0 (normal 0 1) ]\n",
      "[assume w1 (normal 0 1) ]\n",
      "[assume x (mem (lambda (i) (normal 0 1) ) )]\n",
      "\n",
      "[assume y (mem (lambda (i) (normal (+ w0 (* w1 (x i) ) ) (noise_f i) )  ) ) ]\n",
      "'''\n",
      "v=make_lite_church_prime_ripl()\n",
      "v=MRipl(2,lite=true)\n",
      "v.execute_program(model);"
     ],
     "language": "python",
     "metadata": {},
     "outputs": [],
     "prompt_number": 66
    },
    {
     "cell_type": "code",
     "collapsed": false,
     "input": [
      "p=[v.predict('(list (x %i) (y %i) )' % (i,i)) for i in range(10)]\n",
      "noi = [v.predict('(noise_f %i)' % (i)) for i in range(10)]\n",
      "xs = [item[0] for item in p]; ys = [item[1] for item in p]\n",
      "fig,ax = plt.subplots(2,1)\n",
      "ax[0].scatter(xs,ys)\n",
      "ax[1].plot(range(len(noi)),noi)"
     ],
     "language": "python",
     "metadata": {},
     "outputs": [
      {
       "metadata": {},
       "output_type": "pyout",
       "prompt_number": 67,
       "text": [
        "[<matplotlib.lines.Line2D at 0xc9eac8c>]"
       ]
      },
      {
       "metadata": {},
       "output_type": "display_data",
       "png": "[encoded data removed]",
       "text": [
        "<matplotlib.figure.Figure at 0xc95270c>"
       ]
      }
     ],
     "prompt_number": 67
    },
    {
     "cell_type": "code",
     "collapsed": false,
     "input": [
      "data=[ (0.1,0.), (2.,2.3), (-3.,-3.1) ]; data_out = data[:] + [(4.,9)]*4\n",
      "n=len(data_out)\n",
      "\n",
      "#prior_w = zip([v.predict('w0') for v in vs],\n",
      " #             [v.predict('w1') for v in vs] )\n",
      "for i,(x,y) in enumerate(data_out):\n",
      "    v.observe('(x %i)' % i , '%s' % str(x) )\n",
      "    v.observe('(y %i)' % i , '%s' % str(y) )"
     ],
     "language": "python",
     "metadata": {},
     "outputs": [],
     "prompt_number": 68
    },
    {
     "cell_type": "code",
     "collapsed": false,
     "input": [
      "v.infer(40)\n",
      "p=[v.predict('(list (x %i) (y %i) )' % (i,i)) for i in range(n)]\n",
      "\n",
      "w0,w1 = v.predict('(list w0 w1)')\n",
      "xs = [item[0] for item in p]; ys = [item[1] for item in p]\n",
      "\n",
      "yg = [w0+(w1*x) for x in xs]\n",
      "noi = [v.predict('(noise_f %i)' % (i)) for i in range(n)]\n",
      "\n",
      "\n",
      "fig,ax = plt.subplots(2,1)\n",
      "ax[0].scatter(xs,ys); ax[0].plot(xs,yg)\n",
      "ax[1].plot(range(n),noi)"
     ],
     "language": "python",
     "metadata": {},
     "outputs": [
      {
       "metadata": {},
       "output_type": "pyout",
       "prompt_number": 69,
       "text": [
        "[<matplotlib.lines.Line2D at 0xcffde2c>]"
       ]
      },
      {
       "metadata": {},
       "output_type": "display_data",
       "png": "[encoded data removed]",
       "text": [
        "<matplotlib.figure.Figure at 0xcefed6c>"
       ]
      }
     ],
     "prompt_number": 69
    },
    {
     "cell_type": "code",
     "collapsed": false,
     "input": [
      "for i in range(5):\n",
      "    print v.predict('(list w0 w1)')\n",
      "    v.infer(40)"
     ],
     "language": "python",
     "metadata": {},
     "outputs": [
      {
       "output_type": "stream",
       "stream": "stdout",
       "text": [
        "[0.05989468311627605, 0.4927641016632425]\n",
        "[0.05989468311627605, 0.4927641016632425]"
       ]
      },
      {
       "output_type": "stream",
       "stream": "stdout",
       "text": [
        "\n",
        "[0.05989468311627605, 0.4927641016632425]"
       ]
      },
      {
       "output_type": "stream",
       "stream": "stdout",
       "text": [
        "\n",
        "[0.05989468311627605, 0.5407735853003902]"
       ]
      },
      {
       "output_type": "stream",
       "stream": "stdout",
       "text": [
        "\n",
        "[0.05989468311627605, 0.8835117575301222]"
       ]
      },
      {
       "output_type": "stream",
       "stream": "stdout",
       "text": [
        "\n"
       ]
      }
     ],
     "prompt_number": 70
    },
    {
     "cell_type": "code",
     "collapsed": false,
     "input": [
      "[di for di in v.list_directives() if 'ob' in di['instruction'] ]"
     ],
     "language": "python",
     "metadata": {},
     "outputs": [
      {
       "metadata": {},
       "output_type": "pyout",
       "prompt_number": 57,
       "text": [
        "[{'directive_id': 27,\n",
        "  'expression': ['x', {'type': 'number', 'value': 0.0}],\n",
        "  'instruction': 'observe',\n",
        "  'value': 0.1},\n",
        " {'directive_id': 28,\n",
        "  'expression': ['y', {'type': 'number', 'value': 0.0}],\n",
        "  'instruction': 'observe',\n",
        "  'value': 0.0},\n",
        " {'directive_id': 29,\n",
        "  'expression': ['x', {'type': 'number', 'value': 1.0}],\n",
        "  'instruction': 'observe',\n",
        "  'value': 2.0},\n",
        " {'directive_id': 30,\n",
        "  'expression': ['y', {'type': 'number', 'value': 1.0}],\n",
        "  'instruction': 'observe',\n",
        "  'value': 2.3},\n",
        " {'directive_id': 31,\n",
        "  'expression': ['x', {'type': 'number', 'value': 2.0}],\n",
        "  'instruction': 'observe',\n",
        "  'value': -3.0},\n",
        " {'directive_id': 32,\n",
        "  'expression': ['y', {'type': 'number', 'value': 2.0}],\n",
        "  'instruction': 'observe',\n",
        "  'value': -3.1},\n",
        " {'directive_id': 33,\n",
        "  'expression': ['x', {'type': 'number', 'value': 3.0}],\n",
        "  'instruction': 'observe',\n",
        "  'value': 4.0},\n",
        " {'directive_id': 34,\n",
        "  'expression': ['y', {'type': 'number', 'value': 3.0}],\n",
        "  'instruction': 'observe',\n",
        "  'value': 9.0}]"
       ]
      }
     ],
     "prompt_number": 57
    },
    {
     "cell_type": "code",
     "collapsed": false,
     "input": [],
     "language": "python",
     "metadata": {},
     "outputs": []
    }
   ],
   "metadata": {}
  }
 ]
}