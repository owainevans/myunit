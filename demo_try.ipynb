{
 "metadata": {
  "name": ""
 },
 "nbformat": 3,
 "nbformat_minor": 0,
 "worksheets": [
  {
   "cells": [
    {
     "cell_type": "code",
     "collapsed": false,
     "input": [
      "!ls"
     ],
     "language": "python",
     "metadata": {},
     "outputs": [
      {
       "output_type": "stream",
       "stream": "stdout",
       "text": [
        "demo_try.ipynb\t\t\t     #my_unit.py#  p.ipy~\t\t\t\t       sweep_time_asymptotics  vent_magic_play.py   v.sh~\r\n",
        "demo_unit.ipynb\t\t\t     my_unit.py    run_from_conditional_venture_random_seed=0  #try.py#\t\t       vent_magic_play.py~\r\n",
        "__init__.py\t\t\t     my_unit.pyc   run_from_joint_venture_random_seed=0        try.py\t\t       vent_magic.py~\r\n",
        "kl_divergence_venture_random_seed=0  p.ipy\t   sample_from_joint_venture_random_seed=0     #vent_magic_play.py#    v.sh\r\n"
       ]
      }
     ],
     "prompt_number": 2
    },
    {
     "cell_type": "code",
     "collapsed": false,
     "input": [
      "%run try.py"
     ],
     "language": "python",
     "metadata": {},
     "outputs": [],
     "prompt_number": 5
    },
    {
     "cell_type": "code",
     "collapsed": false,
     "input": [
      "histories?"
     ],
     "language": "python",
     "metadata": {},
     "outputs": [],
     "prompt_number": 4
    },
    {
     "cell_type": "code",
     "collapsed": false,
     "input": [],
     "language": "python",
     "metadata": {},
     "outputs": []
    }
   ],
   "metadata": {}
  }
 ]
}