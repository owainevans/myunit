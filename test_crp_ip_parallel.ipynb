{
 "metadata": {
  "name": ""
 },
 "nbformat": 3,
 "nbformat_minor": 0,
 "worksheets": [
  {
   "cells": [
    {
     "cell_type": "code",
     "collapsed": false,
     "input": [
      "## Tests for mr_map magic"
     ],
     "language": "python",
     "metadata": {},
     "outputs": []
    },
    {
     "cell_type": "code",
     "collapsed": false,
     "input": [
      "## FIXME path\n",
      "%run /home/owainevans/Venturecxx/python/lib/venturemagics/ip_parallel.py\n",
      "\n",
      "clear_all_engines()\n",
      "\n",
      "prog='''\n",
      "[assume alpha (uniform_continuous .01 1)]\n",
      "[assume crp (make_crp alpha) ]\n",
      "[assume z (mem (lambda (i) (crp) ) ) ]\n",
      "[assume mu (mem (lambda (z dim) (normal 0 5) ) ) ] \n",
      "[assume sig (mem (lambda (z dim) (uniform_continuous .1 8) ) ) ]\n",
      "[assume x (mem (lambda (i dim) (normal (mu (z i) dim) (sig (z i) dim)))  ) ]'''\n",
      "v=MRipl(2)\n",
      "v.execute_program(prog)\n",
      "\n",
      "nor = np.random.normal\n",
      "n=10; \n",
      "x0 = list(nor(0,1,n/2)) + list(nor(5,1,n/2))\n",
      "x1 = list(nor(0,1,n/2)) + list(nor(5,1,n/2))\n",
      "\n",
      "scatter(x0,x1,c=([0]*(n/2) + [1]*(n/2)),s=25,marker='+')\n",
      "[v.observe( '(x %i 0)' % i, str(x0[i]), label=( 'x_%i0' % i) ) for i in range(len(x0))];\n",
      "[v.observe( '(x %i 1)' % i, str(x1[i]), label=( 'x_%i1' % i) ) for i in range(len(x1))];\n",
      "v.infer(100)"
     ],
     "language": "python",
     "metadata": {},
     "outputs": [
      {
       "output_type": "stream",
       "stream": "stdout",
       "text": [
        "['(pid, index, seed)', (7822, 0, 0), (7825, 0, 1)]\n"
       ]
      },
      {
       "metadata": {},
       "output_type": "pyout",
       "prompt_number": 1,
       "text": [
        "[None, None]"
       ]
      },
      {
       "metadata": {},
       "output_type": "display_data",
       "png": "[encoded data removed]",
       "text": [
        "<matplotlib.figure.Figure at 0xa9a2b8c>"
       ]
      }
     ],
     "prompt_number": 1
    },
    {
     "cell_type": "code",
     "collapsed": false,
     "input": [
      "%%mr_map v crp_check st\n",
      "n=10\n",
      "def crp_check(ripl):\n",
      "    x0 = [ripl.sample( '(x %i 0)' % i ) for i in range(n) ]\n",
      "    return x0"
     ],
     "language": "python",
     "metadata": {},
     "outputs": [
      {
       "output_type": "stream",
       "stream": "stdout",
       "text": [
        "st = \n"
       ]
      },
      {
       "metadata": {},
       "output_type": "pyout",
       "prompt_number": 2,
       "text": [
        "{'info': {'mripl': 'v', 'proc': 'crp_check'},\n",
        " 'out': [[0.105028228764,\n",
        "   0.60119495279,\n",
        "   0.533186328959,\n",
        "   -1.97266828649,\n",
        "   2.01802075106,\n",
        "   4.75779598013,\n",
        "   4.71609816819,\n",
        "   5.50316765556,\n",
        "   5.08391935425,\n",
        "   5.12474682841],\n",
        "  [0.105028228764,\n",
        "   0.60119495279,\n",
        "   0.533186328959,\n",
        "   -1.97266828649,\n",
        "   2.01802075106,\n",
        "   4.75779598013,\n",
        "   4.71609816819,\n",
        "   5.50316765556,\n",
        "   5.08391935425,\n",
        "   5.12474682841]]}"
       ]
      }
     ],
     "prompt_number": 2
    },
    {
     "cell_type": "code",
     "collapsed": false,
     "input": [
      "%%mr_map v plotter st_plot\n",
      "import os\n",
      "pid = os.getpid()\n",
      "#%pylab inline\n",
      "def plotter(ripl):\n",
      "    x=[ripl.sample('(normal 0 1)') for i in range(20) ]\n",
      "    fig,ax = plt.subplots()\n",
      "    ax.hist(x)\n",
      "    fig.savefig('/home/owainevans/temp%i.png' % pid )\n",
      "    return x"
     ],
     "language": "python",
     "metadata": {},
     "outputs": [
      {
       "metadata": {},
       "output_type": "display_data",
       "text": [
        "[output:0]"
       ]
      },
      {
       "metadata": {},
       "output_type": "display_data",
       "png": "[encoded data removed]",
       "text": [
        "<matplotlib.figure.Figure at 0xadc8a2c>"
       ]
      },
      {
       "metadata": {},
       "output_type": "display_data",
       "text": [
        "[output:1]"
       ]
      },
      {
       "metadata": {},
       "output_type": "display_data",
       "png": "[encoded data removed]",
       "text": [
        "<matplotlib.figure.Figure at 0xa2ecb4c>"
       ]
      },
      {
       "output_type": "stream",
       "stream": "stdout",
       "text": [
        "st_plot = \n"
       ]
      },
      {
       "metadata": {},
       "output_type": "pyout",
       "prompt_number": 3,
       "text": [
        "{'info': {'mripl': 'v', 'proc': 'plotter'},\n",
        " 'out': [[-1.4900665633576968,\n",
        "   1.6711020806808605,\n",
        "   -1.460804274087145,\n",
        "   -1.2607892938487157,\n",
        "   -0.21702327484901893,\n",
        "   -1.9112964174671645,\n",
        "   -0.12260309065252319,\n",
        "   -2.506466078543396,\n",
        "   0.3293415649635751,\n",
        "   -0.23297151959586584,\n",
        "   0.32471807710561995,\n",
        "   -0.10758890359264502,\n",
        "   0.14932433112183668,\n",
        "   -0.6475596009575609,\n",
        "   -0.13058283087761202,\n",
        "   0.6056843088454592,\n",
        "   0.1414774453510669,\n",
        "   0.457517211291296,\n",
        "   -0.6633578621401726,\n",
        "   -0.018609886521911288],\n",
        "  [0.13076989946196094,\n",
        "   0.7522085057265153,\n",
        "   -0.5445945022357453,\n",
        "   0.18787992545293866,\n",
        "   0.31623019111848516,\n",
        "   0.3560788985396071,\n",
        "   1.8318726756526,\n",
        "   -1.3068622176027913,\n",
        "   0.7261909659519669,\n",
        "   1.05347647291306,\n",
        "   0.6727451584833788,\n",
        "   0.862731882634268,\n",
        "   -2.4359054833114038,\n",
        "   -1.2899945978009941,\n",
        "   -0.5026510589454448,\n",
        "   -0.06593163224975183,\n",
        "   -1.9630945681584597,\n",
        "   0.3131335001355024,\n",
        "   -1.9463876538021923,\n",
        "   1.7760883250351311]]}"
       ]
      }
     ],
     "prompt_number": 3
    },
    {
     "cell_type": "markdown",
     "metadata": {},
     "source": [
      "<img src=/home/owainevans/temp_sh.png>"
     ]
    },
    {
     "cell_type": "code",
     "collapsed": false,
     "input": [
      "assert n in v.dview['n'] , 'error: failed to store variable n across ripls'\n",
      "%px crp_check   # check this runs\n",
      "\n",
      "# we get the same x0 observations back from each ripl, we compare them to original x0\n",
      "samples_ripl0 = st['out'][0]\n",
      "assert all( np.round(samples_ripl0)==np.round( x0 ) ), 'failed basic check of mr_map, but be wary of numerical rounding'"
     ],
     "language": "python",
     "metadata": {},
     "outputs": [
      {
       "metadata": {},
       "output_type": "display_data",
       "text": [
        "\u001b[0;31mOut[0:83]: \u001b[0m<function __main__.crp_check>"
       ]
      },
      {
       "metadata": {},
       "output_type": "display_data",
       "text": [
        "\u001b[0;31mOut[1:83]: \u001b[0m<function __main__.crp_check>"
       ]
      }
     ],
     "prompt_number": 10
    },
    {
     "cell_type": "code",
     "collapsed": false,
     "input": [
      "## CRP predictions should run and be plotted inline"
     ],
     "language": "python",
     "metadata": {},
     "outputs": []
    },
    {
     "cell_type": "code",
     "collapsed": false,
     "input": [
      "%%mr_map v crp_plot st2\n",
      "n=10\n",
      "def crp_plot(r):\n",
      "    x0 = [r.sample( '(x %i 0)' % i ) for i in range(n) ]\n",
      "    x1 = [r.sample( '(x %i 1)' % i ) for i in range(n) ]\n",
      "    zs = [r.sample('(z %i)' % i) for i in range(n) ]\n",
      "    fig,ax = plt.subplots(2,sharex=True,sharey=True,figsize=(12,8))\n",
      "    ax[0].scatter(x0,x1,c=zs ,s=30,marker='+')\n",
      "    \n",
      "    px0 = [r.predict( '(x %i 0)' % i ) for i in range(n,2*n) ]\n",
      "    px1 = [r.predict( '(x %i 1)' % i ) for i in range(n,2*n) ]\n",
      "    pzs = [r.predict('(z %i)' % i) for i in range(n,2*n) ]\n",
      "    ax[1].scatter(x0+px0,x1+px1,c=zs+pzs,s=30,marker='+')\n",
      "    return None"
     ],
     "language": "python",
     "metadata": {},
     "outputs": [
      {
       "metadata": {},
       "output_type": "display_data",
       "text": [
        "[output:0]"
       ]
      },
      {
       "metadata": {},
       "output_type": "display_data",
       "png": "[encoded data removed]",
       "text": [
        "<matplotlib.figure.Figure at 0xb1ed2ec>"
       ]
      },
      {
       "metadata": {},
       "output_type": "display_data",
       "text": [
        "[output:1]"
       ]
      },
      {
       "metadata": {},
       "output_type": "display_data",
       "png": "[encoded data removed]",
       "text": [
        "<matplotlib.figure.Figure at 0xa7d3ecc>"
       ]
      },
      {
       "output_type": "stream",
       "stream": "stdout",
       "text": [
        "st2 = \n"
       ]
      },
      {
       "metadata": {},
       "output_type": "pyout",
       "prompt_number": 4,
       "text": [
        "{'info': {'mripl': 'v', 'proc': 'crp_plot'}, 'out': [None, None]}"
       ]
      }
     ],
     "prompt_number": 4
    },
    {
     "cell_type": "code",
     "collapsed": false,
     "input": [
      "# compare results from mr_map_magic and mr_map_nomagic\n",
      "%run ~/Venturecxx/python/lib/venturemagics/ip_parallel.py\n",
      "clear_all_engines()\n",
      "prog='''\n",
      "[assume alpha (uniform_continuous .01 1)]\n",
      "[assume crp (make_crp alpha) ]\n",
      "[assume z (mem (lambda (i) (crp) ) ) ]\n",
      "[assume mu (mem (lambda (z dim) (normal 0 5) ) ) ] \n",
      "[assume sig (mem (lambda (z dim) (uniform_continuous .1 8) ) ) ]\n",
      "[assume x (mem (lambda (i dim) (normal (mu (z i) dim) (sig (z i) dim)))  ) ]'''\n",
      "\n",
      "np.random.seed(1)\n",
      "nor = np.random.normal\n",
      "n=10; \n",
      "x0 = list(nor(0,1,n/2)) + list(nor(5,1,n/2))\n",
      "x1 = list(nor(0,1,n/2)) + list(nor(5,1,n/2))\n",
      "\n",
      "v1 = MRipl(2); v2=MRipl(2); v3=MRipl(2); vs = [v1,v2,v3]\n",
      "[v.execute_program(prog) for v in vs]\n",
      "[v.observe( '(x %i 0)' % i, str(x0[i]), label=( 'x_%i0' % i) ) for v in vs for i in range(len(x0))];\n",
      "[v.observe( '(x %i 1)' % i, str(x1[i]), label=( 'x_%i1' % i) ) for v in vs for i in range(len(x1))];\n",
      "\n",
      "# we now do infer in three different ways. for v1 we do normal infer\n",
      "v1.infer(100)\n",
      "# for v2 we use mr_map_nomagic\n",
      "v2_out = mr_map_nomagic(v2, lambda ripl: ripl.infer(100) )\n",
      "# for v3 we use the magic"
     ],
     "language": "python",
     "metadata": {},
     "outputs": [
      {
       "output_type": "stream",
       "stream": "stdout",
       "text": [
        "['(pid, index, seed)', (7822, 0, 0), (7825, 0, 1)]\n",
        "['(pid, index, seed)', (7822, 0, 0), (7825, 0, 1)]"
       ]
      },
      {
       "output_type": "stream",
       "stream": "stdout",
       "text": [
        "\n",
        "['(pid, index, seed)', (7822, 0, 0), (7825, 0, 1)]"
       ]
      },
      {
       "output_type": "stream",
       "stream": "stdout",
       "text": [
        "\n"
       ]
      }
     ],
     "prompt_number": 2
    },
    {
     "cell_type": "code",
     "collapsed": false,
     "input": [
      "%%mr_map v3 inf\n",
      "inf=lambda ripl: ripl.infer(100)"
     ],
     "language": "python",
     "metadata": {},
     "outputs": [
      {
       "metadata": {},
       "output_type": "pyout",
       "prompt_number": 3,
       "text": [
        "{'info': {'mripl': 'v3', 'proc': 'inf'}, 'out': [None, None]}"
       ]
      }
     ],
     "prompt_number": 3
    },
    {
     "cell_type": "code",
     "collapsed": false,
     "input": [
      "# we now get info from all ripls, which should be identical because seeds are identical\n",
      "def get_zs(mripl): return [mripl.sample('(z %i)' % i) for i in range(n) ]\n",
      "zs = [get_zs(v) for v in vs]\n",
      "assert zs[0]==zs[1]==zs[2]\n"
     ],
     "language": "python",
     "metadata": {},
     "outputs": [
      {
       "ename": "AssertionError",
       "evalue": "",
       "output_type": "pyerr",
       "traceback": [
        "\u001b[1;31m---------------------------------------------------------------------------\u001b[0m\n\u001b[1;31mAssertionError\u001b[0m                            Traceback (most recent call last)",
        "\u001b[1;32m<ipython-input-4-242b7a984877>\u001b[0m in \u001b[0;36m<module>\u001b[1;34m()\u001b[0m\n\u001b[0;32m      2\u001b[0m \u001b[1;32mdef\u001b[0m \u001b[0mget_zs\u001b[0m\u001b[1;33m(\u001b[0m\u001b[0mmripl\u001b[0m\u001b[1;33m)\u001b[0m\u001b[1;33m:\u001b[0m \u001b[1;32mreturn\u001b[0m \u001b[1;33m[\u001b[0m\u001b[0mmripl\u001b[0m\u001b[1;33m.\u001b[0m\u001b[0msample\u001b[0m\u001b[1;33m(\u001b[0m\u001b[1;34m'(z %i)'\u001b[0m \u001b[1;33m%\u001b[0m \u001b[0mi\u001b[0m\u001b[1;33m)\u001b[0m \u001b[1;32mfor\u001b[0m \u001b[0mi\u001b[0m \u001b[1;32min\u001b[0m \u001b[0mrange\u001b[0m\u001b[1;33m(\u001b[0m\u001b[0mn\u001b[0m\u001b[1;33m)\u001b[0m \u001b[1;33m]\u001b[0m\u001b[1;33m\u001b[0m\u001b[0m\n\u001b[0;32m      3\u001b[0m \u001b[0mzs\u001b[0m \u001b[1;33m=\u001b[0m \u001b[1;33m[\u001b[0m\u001b[0mget_zs\u001b[0m\u001b[1;33m(\u001b[0m\u001b[0mv\u001b[0m\u001b[1;33m)\u001b[0m \u001b[1;32mfor\u001b[0m \u001b[0mv\u001b[0m \u001b[1;32min\u001b[0m \u001b[0mvs\u001b[0m\u001b[1;33m]\u001b[0m\u001b[1;33m\u001b[0m\u001b[0m\n\u001b[1;32m----> 4\u001b[1;33m \u001b[1;32massert\u001b[0m \u001b[0mzs\u001b[0m\u001b[1;33m[\u001b[0m\u001b[1;36m0\u001b[0m\u001b[1;33m]\u001b[0m\u001b[1;33m==\u001b[0m\u001b[0mzs\u001b[0m\u001b[1;33m[\u001b[0m\u001b[1;36m1\u001b[0m\u001b[1;33m]\u001b[0m\u001b[1;33m==\u001b[0m\u001b[0mzs\u001b[0m\u001b[1;33m[\u001b[0m\u001b[1;36m2\u001b[0m\u001b[1;33m]\u001b[0m\u001b[1;33m\u001b[0m\u001b[0m\n\u001b[0m",
        "\u001b[1;31mAssertionError\u001b[0m: "
       ]
      }
     ],
     "prompt_number": 4
    },
    {
     "cell_type": "code",
     "collapsed": false,
     "input": [
      "vx1 = [ (di['label'],di['value']) for di in v1.list_directives()[0] if di['instruction']=='observe']\n",
      "vx2 = [ (di['label'],di['value']) for di in v2.list_directives()[0] if di['instruction']=='observe']\n",
      "vx1==vx2"
     ],
     "language": "python",
     "metadata": {},
     "outputs": [
      {
       "metadata": {},
       "output_type": "pyout",
       "prompt_number": 26,
       "text": [
        "True"
       ]
      }
     ],
     "prompt_number": 26
    },
    {
     "cell_type": "code",
     "collapsed": false,
     "input": [
      "# IMP: when running 3 mripls on the crp, where each mripl has two ripls\n",
      "# with seeds 0,1. we get different inference results for the z vals\n",
      "# in the crp. this doesn't seem to occur for other models. is this\n",
      "# something about the crp that means the results aren't deterministic\n",
      "# in the starting seeds?\n",
      "\n",
      "\n",
      "clear_all_engines()\n",
      "prog='''\n",
      "[assume alpha (uniform_continuous .01 1)]\n",
      "[assume crp (make_crp alpha) ]\n",
      "[assume z (mem (lambda (i) (crp) ) ) ]\n",
      "[assume mu (mem (lambda (z dim) (normal 0 5) ) ) ] \n",
      "[assume sig (mem (lambda (z dim) (uniform_continuous .1 8) ) ) ]\n",
      "[assume x (mem (lambda (i dim) (normal (mu (z i) dim) (sig (z i) dim)))  ) ]'''\n",
      "\n",
      "np.random.seed(1)\n",
      "nor = np.random.normal\n",
      "n=10; \n",
      "x0 = list(nor(0,1,n/2)) + list(nor(5,1,n/2))\n",
      "x1 = list(nor(0,1,n/2)) + list(nor(5,1,n/2))\n",
      "\n",
      "vs = [MRipl(2,lite=True) for i in range(3) ]\n",
      "[v.execute_program(prog) for v in vs]\n",
      "[v.observe( '(x %i 0)' % i, str(x0[i]), label=( 'x_%i0' % i) ) for v in vs for i in range(len(x0))];\n",
      "[v.observe( '(x %i 1)' % i, str(x1[i]), label=( 'x_%i1' % i) ) for v in vs for i in range(len(x1))];\n",
      "\n",
      "# we now do infer in three different ways. for v1 we do normal infer\n",
      "[v.infer(100) for v in vs]\n",
      "\n",
      "def get_zs(mripl): return [mripl.sample('(z %i)' % i) for i in range(n) ]\n",
      "zs = [get_zs(v) for v in vs]\n",
      "assert zs[0]==zs[1]==zs[2]"
     ],
     "language": "python",
     "metadata": {},
     "outputs": [
      {
       "output_type": "stream",
       "stream": "stdout",
       "text": [
        "['(pid, index, seed)', (7822, 0, 0), (7825, 0, 1)]\n",
        "['(pid, index, seed)', (7822, 0, 0), (7825, 0, 1)]"
       ]
      },
      {
       "output_type": "stream",
       "stream": "stdout",
       "text": [
        "\n",
        "['(pid, index, seed)', (7822, 0, 0), (7825, 0, 1)]"
       ]
      },
      {
       "ename": "AssertionError",
       "evalue": "",
       "output_type": "pyerr",
       "traceback": [
        "\u001b[1;31m---------------------------------------------------------------------------\u001b[0m\n\u001b[1;31mAssertionError\u001b[0m                            Traceback (most recent call last)",
        "\u001b[1;32m<ipython-input-19-10d09ee3bcda>\u001b[0m in \u001b[0;36m<module>\u001b[1;34m()\u001b[0m\n\u001b[0;32m     31\u001b[0m \u001b[1;32mdef\u001b[0m \u001b[0mget_zs\u001b[0m\u001b[1;33m(\u001b[0m\u001b[0mmripl\u001b[0m\u001b[1;33m)\u001b[0m\u001b[1;33m:\u001b[0m \u001b[1;32mreturn\u001b[0m \u001b[1;33m[\u001b[0m\u001b[0mmripl\u001b[0m\u001b[1;33m.\u001b[0m\u001b[0msample\u001b[0m\u001b[1;33m(\u001b[0m\u001b[1;34m'(z %i)'\u001b[0m \u001b[1;33m%\u001b[0m \u001b[0mi\u001b[0m\u001b[1;33m)\u001b[0m \u001b[1;32mfor\u001b[0m \u001b[0mi\u001b[0m \u001b[1;32min\u001b[0m \u001b[0mrange\u001b[0m\u001b[1;33m(\u001b[0m\u001b[0mn\u001b[0m\u001b[1;33m)\u001b[0m \u001b[1;33m]\u001b[0m\u001b[1;33m\u001b[0m\u001b[0m\n\u001b[0;32m     32\u001b[0m \u001b[0mzs\u001b[0m \u001b[1;33m=\u001b[0m \u001b[1;33m[\u001b[0m\u001b[0mget_zs\u001b[0m\u001b[1;33m(\u001b[0m\u001b[0mv\u001b[0m\u001b[1;33m)\u001b[0m \u001b[1;32mfor\u001b[0m \u001b[0mv\u001b[0m \u001b[1;32min\u001b[0m \u001b[0mvs\u001b[0m\u001b[1;33m]\u001b[0m\u001b[1;33m\u001b[0m\u001b[0m\n\u001b[1;32m---> 33\u001b[1;33m \u001b[1;32massert\u001b[0m \u001b[0mzs\u001b[0m\u001b[1;33m[\u001b[0m\u001b[1;36m0\u001b[0m\u001b[1;33m]\u001b[0m\u001b[1;33m==\u001b[0m\u001b[0mzs\u001b[0m\u001b[1;33m[\u001b[0m\u001b[1;36m1\u001b[0m\u001b[1;33m]\u001b[0m\u001b[1;33m==\u001b[0m\u001b[0mzs\u001b[0m\u001b[1;33m[\u001b[0m\u001b[1;36m2\u001b[0m\u001b[1;33m]\u001b[0m\u001b[1;33m\u001b[0m\u001b[0m\n\u001b[0m",
        "\u001b[1;31mAssertionError\u001b[0m: "
       ]
      },
      {
       "output_type": "stream",
       "stream": "stdout",
       "text": [
        "\n"
       ]
      }
     ],
     "prompt_number": 19
    },
    {
     "cell_type": "code",
     "collapsed": false,
     "input": [
      "zs"
     ],
     "language": "python",
     "metadata": {},
     "outputs": [
      {
       "metadata": {},
       "output_type": "pyout",
       "prompt_number": 20,
       "text": [
        "[[[0, 0],\n",
        "  [2, 1],\n",
        "  [3, 1],\n",
        "  [3, 1],\n",
        "  [1, 1],\n",
        "  [3, 1],\n",
        "  [3, 1],\n",
        "  [3, 1],\n",
        "  [3, 1],\n",
        "  [3, 1]],\n",
        " [[0, 0],\n",
        "  [2, 1],\n",
        "  [3, 1],\n",
        "  [3, 1],\n",
        "  [1, 1],\n",
        "  [3, 1],\n",
        "  [3, 1],\n",
        "  [3, 1],\n",
        "  [3, 1],\n",
        "  [3, 1]],\n",
        " [[3, 0],\n",
        "  [1, 1],\n",
        "  [1, 1],\n",
        "  [1, 1],\n",
        "  [1, 1],\n",
        "  [1, 1],\n",
        "  [1, 1],\n",
        "  [3, 1],\n",
        "  [3, 1],\n",
        "  [1, 1]]]"
       ]
      }
     ],
     "prompt_number": 20
    },
    {
     "cell_type": "code",
     "collapsed": false,
     "input": [
      "# compare results from mr_map_magic and mr_map_nomagic\n",
      "%run ~/Venturecxx/python/lib/venturemagics/ip_parallel.py\n",
      "clear_all_engines()\n",
      "prog='''\n",
      "[assume x (normal 0 1)]\n",
      "\n",
      "'''\n",
      "v1 = MRipl(2); v2=MRipl(2); v3=MRipl(2); vs = [v1,v2,v3]\n",
      "[v.sample('(poisson 5)') for v in vs]\n",
      "[v.execute_program(prog) for v in vs]\n",
      "#[v.observe( '(x %i 0)' % i, str(x0[i]), label=( 'x_%i0' % i) ) for v in vs for i in range(len(x0))];\n",
      "#[v.observe( '(x %i 1)' % i, str(x1[i]), label=( 'x_%i1' % i) ) for v in vs for i in range(len(x1))];\n",
      "\n",
      "# we now do infer in three different ways. for v1 we do normal infer\n",
      "v1.infer(100)\n",
      "# for v2 we use mr_map_nomagic\n",
      "v2_out = mr_map_nomagic(v2, lambda ripl: ripl.infer(100) )\n",
      "# for v3 we use the magic"
     ],
     "language": "python",
     "metadata": {},
     "outputs": [
      {
       "output_type": "stream",
       "stream": "stdout",
       "text": [
        "['(pid, index, seed)', (7822, 0, 0), (7825, 0, 1)]\n",
        "['(pid, index, seed)', (7822, 0, 0), (7825, 0, 1)]"
       ]
      },
      {
       "output_type": "stream",
       "stream": "stdout",
       "text": [
        "\n",
        "['(pid, index, seed)', (7822, 0, 0), (7825, 0, 1)]"
       ]
      },
      {
       "output_type": "stream",
       "stream": "stdout",
       "text": [
        "\n"
       ]
      }
     ],
     "prompt_number": 10
    },
    {
     "cell_type": "code",
     "collapsed": false,
     "input": [
      "%%mr_map v3 inf\n",
      "inf=lambda ripl: ripl.infer(100)"
     ],
     "language": "python",
     "metadata": {},
     "outputs": [
      {
       "metadata": {},
       "output_type": "pyout",
       "prompt_number": 11,
       "text": [
        "{'info': {'mripl': 'v3', 'proc': 'inf'}, 'out': [None, None]}"
       ]
      }
     ],
     "prompt_number": 11
    },
    {
     "cell_type": "code",
     "collapsed": false,
     "input": [
      "def get_zs(mripl): return mripl.sample('x')\n",
      "zs = [get_zs(v) for v in vs]"
     ],
     "language": "python",
     "metadata": {},
     "outputs": [],
     "prompt_number": 12
    },
    {
     "cell_type": "code",
     "collapsed": false,
     "input": [
      "zs"
     ],
     "language": "python",
     "metadata": {},
     "outputs": [
      {
       "metadata": {},
       "output_type": "pyout",
       "prompt_number": 9,
       "text": [
        "[[-0.7278019781376717, -1.0041250054789381],\n",
        " [-0.7278019781376717, -1.0041250054789381],\n",
        " [-0.7278019781376717, -1.0041250054789381]]"
       ]
      }
     ],
     "prompt_number": 9
    },
    {
     "cell_type": "code",
     "collapsed": false,
     "input": [
      "zs"
     ],
     "language": "python",
     "metadata": {},
     "outputs": [
      {
       "metadata": {},
       "output_type": "pyout",
       "prompt_number": 13,
       "text": [
        "[[-0.09047269010504733, -1.1622226290571984],\n",
        " [-0.09047269010504733, -1.1622226290571984],\n",
        " [-0.09047269010504733, -1.1622226290571984]]"
       ]
      }
     ],
     "prompt_number": 13
    },
    {
     "cell_type": "code",
     "collapsed": false,
     "input": [],
     "language": "python",
     "metadata": {},
     "outputs": []
    }
   ],
   "metadata": {}
  }
 ]
}