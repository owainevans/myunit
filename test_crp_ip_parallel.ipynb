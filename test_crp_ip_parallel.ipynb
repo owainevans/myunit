{
 "metadata": {
  "name": ""
 },
 "nbformat": 3,
 "nbformat_minor": 0,
 "worksheets": [
  {
   "cells": [
    {
     "cell_type": "code",
     "collapsed": false,
     "input": [
      "## Tests for mr_map magic"
     ],
     "language": "python",
     "metadata": {},
     "outputs": []
    },
    {
     "cell_type": "code",
     "collapsed": false,
     "input": [
      "## FIXME path\n",
      "%run /home/owainevans/Venturecxx/python/lib/venturemagics/ip_parallel.py\n",
      "\n",
      "clear_all_engines()\n",
      "\n",
      "prog='''\n",
      "[assume alpha (uniform_continuous .01 1)]\n",
      "[assume crp (make_crp alpha) ]\n",
      "[assume z (mem (lambda (i) (crp) ) ) ]\n",
      "[assume mu (mem (lambda (z dim) (normal 0 5) ) ) ] \n",
      "[assume sig (mem (lambda (z dim) (uniform_continuous .1 8) ) ) ]\n",
      "[assume x (mem (lambda (i dim) (normal (mu (z i) dim) (sig (z i) dim)))  ) ]'''\n",
      "v=MRipl(2)\n",
      "v.execute_program(prog)\n",
      "\n",
      "nor = np.random.normal\n",
      "n=10; \n",
      "x0 = list(nor(0,1,n/2)) + list(nor(5,1,n/2))\n",
      "x1 = list(nor(0,1,n/2)) + list(nor(5,1,n/2))\n",
      "\n",
      "scatter(x0,x1,c=([0]*(n/2) + [1]*(n/2)),s=25,marker='+')\n",
      "[v.observe( '(x %i 0)' % i, str(x0[i]), label=( 'x_%i0' % i) ) for i in range(len(x0))];\n",
      "[v.observe( '(x %i 1)' % i, str(x1[i]), label=( 'x_%i1' % i) ) for i in range(len(x1))];\n",
      "v.infer(100)"
     ],
     "language": "python",
     "metadata": {},
     "outputs": [
      {
       "output_type": "stream",
       "stream": "stdout",
       "text": [
        "['(pid, index, seed)', (7822, 0, 0), (7825, 0, 1)]\n"
       ]
      },
      {
       "metadata": {},
       "output_type": "pyout",
       "prompt_number": 22,
       "text": [
        "[None, None]"
       ]
      },
      {
       "metadata": {},
       "output_type": "display_data",
       "png": "[encoded data removed]",
       "text": [
        "<matplotlib.figure.Figure at 0xb5d238c>"
       ]
      }
     ],
     "prompt_number": 22
    },
    {
     "cell_type": "code",
     "collapsed": false,
     "input": [
      "%%mr_map v crp_check st\n",
      "n=10\n",
      "def crp_check(ripl):\n",
      "    x0 = [ripl.sample( '(x %i 0)' % i ) for i in range(n) ]\n",
      "    return x0"
     ],
     "language": "python",
     "metadata": {},
     "outputs": [
      {
       "output_type": "stream",
       "stream": "stdout",
       "text": [
        "st = \n"
       ]
      },
      {
       "metadata": {},
       "output_type": "pyout",
       "prompt_number": 12,
       "text": [
        "{'info': {'mripl': 'v', 'proc': 'crp_check'},\n",
        " 'out': [[0.507523852503,\n",
        "   -0.131989316828,\n",
        "   -0.620746632262,\n",
        "   -0.433922628213,\n",
        "   -0.582372263428,\n",
        "   5.36298926341,\n",
        "   4.08179982301,\n",
        "   4.15086515214,\n",
        "   4.78897302967,\n",
        "   4.99496247984],\n",
        "  [0.507523852503,\n",
        "   -0.131989316828,\n",
        "   -0.620746632262,\n",
        "   -0.433922628213,\n",
        "   -0.582372263428,\n",
        "   5.36298926341,\n",
        "   4.08179982301,\n",
        "   4.15086515214,\n",
        "   4.78897302967,\n",
        "   4.99496247984]]}"
       ]
      }
     ],
     "prompt_number": 12
    },
    {
     "cell_type": "code",
     "collapsed": false,
     "input": [
      "%%mr_map v plotter st_plot\n",
      "import os\n",
      "pid = os.getpid()\n",
      "%pylab inline\n",
      "def plotter(ripl):\n",
      "    x=[ripl.sample('(normal 0 1)') for i in range(20) ]\n",
      "    fig,ax = plt.subplots()\n",
      "    ax.hist(x)\n",
      "    fig.savefig('/home/owainevans/temp%i.png' % pid )\n",
      "    return x"
     ],
     "language": "python",
     "metadata": {},
     "outputs": [
      {
       "output_type": "stream",
       "stream": "stdout",
       "text": [
        "[stdout:0] Populating the interactive namespace from numpy and matplotlib\n",
        "[stdout:1] Populating the interactive namespace from numpy and matplotlib\n"
       ]
      },
      {
       "output_type": "stream",
       "stream": "stderr",
       "text": [
        "[stderr:0] \n",
        "WARNING: pylab import has clobbered these variables: ['plt']\n",
        "`%pylab --no-import-all` prevents importing * from pylab and numpy\n",
        "[stderr:1] \n",
        "WARNING: pylab import has clobbered these variables: ['plt']\n",
        "`%pylab --no-import-all` prevents importing * from pylab and numpy\n"
       ]
      },
      {
       "metadata": {},
       "output_type": "display_data",
       "text": [
        "[output:0]"
       ]
      },
      {
       "metadata": {},
       "output_type": "display_data",
       "png": "[encoded data removed]",
       "text": [
        "<matplotlib.figure.Figure at 0xa713eac>"
       ]
      },
      {
       "metadata": {},
       "output_type": "display_data",
       "text": [
        "[output:1]"
       ]
      },
      {
       "metadata": {},
       "output_type": "display_data",
       "png": "[encoded data removed]",
       "text": [
        "<matplotlib.figure.Figure at 0xa3c496c>"
       ]
      },
      {
       "output_type": "stream",
       "stream": "stdout",
       "text": [
        "st_plot = \n"
       ]
      },
      {
       "metadata": {},
       "output_type": "pyout",
       "prompt_number": 23,
       "text": [
        "{'info': {'mripl': 'v', 'proc': 'plotter'},\n",
        " 'out': [[-0.2758376609818993,\n",
        "   0.3716184180726929,\n",
        "   1.054739334659865,\n",
        "   -0.18815632621769995,\n",
        "   0.9131905443486193,\n",
        "   -0.5146473571487389,\n",
        "   1.1103491353299777,\n",
        "   0.7099073402223225,\n",
        "   -0.7967848863624412,\n",
        "   0.32537808375431493,\n",
        "   0.9988976566671843,\n",
        "   -0.7131451369973542,\n",
        "   -0.7312293582136451,\n",
        "   -0.696335987269244,\n",
        "   1.7167448178316407,\n",
        "   -1.7172681420124751,\n",
        "   0.3003841724029178,\n",
        "   0.3021382385384088,\n",
        "   -0.1526143383639512,\n",
        "   -2.025582080273371],\n",
        "  [0.13076989946196094,\n",
        "   0.7522085057265153,\n",
        "   -0.5445945022357453,\n",
        "   0.18787992545293866,\n",
        "   0.31623019111848516,\n",
        "   0.3560788985396071,\n",
        "   1.8318726756526,\n",
        "   -1.3068622176027913,\n",
        "   0.7261909659519669,\n",
        "   1.05347647291306,\n",
        "   0.6727451584833788,\n",
        "   0.862731882634268,\n",
        "   -2.4359054833114038,\n",
        "   -1.2899945978009941,\n",
        "   -0.5026510589454448,\n",
        "   -0.06593163224975183,\n",
        "   -1.9630945681584597,\n",
        "   0.3131335001355024,\n",
        "   -1.9463876538021923,\n",
        "   1.7760883250351311]]}"
       ]
      }
     ],
     "prompt_number": 23
    },
    {
     "cell_type": "code",
     "collapsed": false,
     "input": [
      "cli=Client(); dv=cli[:]\n",
      "cli.clear()\n",
      "%px import matplotlib.pylab as plt\n",
      "%px plt.plot(range(1,5),range(1,5))"
     ],
     "language": "python",
     "metadata": {},
     "outputs": [
      {
       "metadata": {},
       "output_type": "display_data",
       "text": [
        "\u001b[0;31mOut[0:51]: \u001b[0m[<matplotlib.lines.Line2D at 0xabf5b8c>]"
       ]
      },
      {
       "metadata": {},
       "output_type": "display_data",
       "text": [
        "\u001b[0;31mOut[1:51]: \u001b[0m[<matplotlib.lines.Line2D at 0xa3c4dac>]"
       ]
      }
     ],
     "prompt_number": 19
    },
    {
     "cell_type": "code",
     "collapsed": false,
     "input": [
      "fig,ax=subplots()\n",
      "ax.imshow(binomial(1,.4,(10,10)))\n",
      "fig.savefig('/home/owainevans/temp_sh.png')\n"
     ],
     "language": "python",
     "metadata": {},
     "outputs": [
      {
       "metadata": {},
       "output_type": "display_data",
       "png": "[encoded data removed]",
       "text": [
        "<matplotlib.figure.Figure at 0xb6a3fac>"
       ]
      }
     ],
     "prompt_number": 20
    },
    {
     "cell_type": "markdown",
     "metadata": {},
     "source": [
      "<img src='/home/owainevans/temp_sh.png'> hello"
     ]
    },
    {
     "cell_type": "markdown",
     "metadata": {},
     "source": [
      "<img src=/home/owainevans/temp_sh.png>"
     ]
    },
    {
     "cell_type": "code",
     "collapsed": false,
     "input": [
      "fig = st_plot['out'][0][0]\n",
      "print fig"
     ],
     "language": "python",
     "metadata": {},
     "outputs": [
      {
       "output_type": "stream",
       "stream": "stdout",
       "text": [
        "1.67110208068\n"
       ]
      }
     ],
     "prompt_number": 21
    },
    {
     "cell_type": "code",
     "collapsed": false,
     "input": [
      "assert n in v.dview['n'] , 'error: failed to store variable n across ripls'\n",
      "%px crp_check   # check this runs\n",
      "\n",
      "# we get the same x0 observations back from each ripl, we compare them to original x0\n",
      "samples_ripl0 = st['out'][0]\n",
      "assert all( np.round(samples_ripl0)==np.round( x0 ) ), 'failed basic check of mr_map, but be wary of numerical rounding'"
     ],
     "language": "python",
     "metadata": {},
     "outputs": [
      {
       "metadata": {},
       "output_type": "display_data",
       "text": [
        "\u001b[0;31mOut[0:25]: \u001b[0m<function __main__.crp_check>"
       ]
      },
      {
       "metadata": {},
       "output_type": "display_data",
       "text": [
        "\u001b[0;31mOut[1:25]: \u001b[0m<function __main__.crp_check>"
       ]
      }
     ],
     "prompt_number": 13
    },
    {
     "cell_type": "code",
     "collapsed": false,
     "input": [
      "## CRP predictions should run and be plotted inline"
     ],
     "language": "python",
     "metadata": {},
     "outputs": []
    },
    {
     "cell_type": "code",
     "collapsed": false,
     "input": [
      "%%mr_map v crp_plot st2\n",
      "n=10\n",
      "def crp_plot(r):\n",
      "    x0 = [r.sample( '(x %i 0)' % i ) for i in range(n) ]\n",
      "    x1 = [r.sample( '(x %i 1)' % i ) for i in range(n) ]\n",
      "    zs = [r.sample('(z %i)' % i) for i in range(n) ]\n",
      "    fig,ax = plt.subplots(2,sharex=True,sharey=True,figsize=(12,8))\n",
      "    ax[0].scatter(x0,x1,c=zs ,s=30,marker='+')\n",
      "    \n",
      "    px0 = [r.predict( '(x %i 0)' % i ) for i in range(n,2*n) ]\n",
      "    px1 = [r.predict( '(x %i 1)' % i ) for i in range(n,2*n) ]\n",
      "    pzs = [r.predict('(z %i)' % i) for i in range(n,2*n) ]\n",
      "    ax[1].scatter(x0+px0,x1+px1,c=zs+pzs,s=30,marker='+')\n",
      "    return None"
     ],
     "language": "python",
     "metadata": {},
     "outputs": [
      {
       "output_type": "stream",
       "stream": "stdout",
       "text": [
        "st2 = \n"
       ]
      },
      {
       "metadata": {},
       "output_type": "pyout",
       "prompt_number": 4,
       "text": [
        "{'info': {'mripl': 'v', 'proc': 'crp_plot'}, 'out': [None, None]}"
       ]
      }
     ],
     "prompt_number": 4
    },
    {
     "cell_type": "code",
     "collapsed": false,
     "input": [
      "# compare results from mr_map_magic and mr_map_nomagic\n",
      "\n",
      "prog='''\n",
      "[assume alpha (uniform_continuous .01 1)]\n",
      "[assume crp (make_crp alpha) ]\n",
      "[assume z (mem (lambda (i) (crp) ) ) ]\n",
      "[assume mu (mem (lambda (z dim) (normal 0 5) ) ) ] \n",
      "[assume sig (mem (lambda (z dim) (uniform_continuous .1 8) ) ) ]\n",
      "[assume x (mem (lambda (i dim) (normal (mu (z i) dim) (sig (z i) dim)))  ) ]'''\n",
      "\n",
      "np.random.seed(1)\n",
      "nor = np.random.normal\n",
      "n=10; \n",
      "x0 = list(nor(0,1,n/2)) + list(nor(5,1,n/2))\n",
      "x1 = list(nor(0,1,n/2)) + list(nor(5,1,n/2))\n",
      "\n",
      "v1 = MRipl(2); v2=MRipl(2); v3=MRipl(2); vs = [v1,v2,v3]\n",
      "[v.execute_program(prog) for v in vs]\n",
      "[v.observe( '(x %i 0)' % i, str(x0[i]), label=( 'x_%i0' % i) ) for v in vs for i in range(len(x0))];\n",
      "[v.observe( '(x %i 1)' % i, str(x1[i]), label=( 'x_%i1' % i) ) for v in vs for i in range(len(x1))];\n",
      "\n",
      "# we now do infer in three different ways. for v1 we do normal infer\n",
      "v1.infer(100)\n",
      "# for v2 we use mr_map_nomagic\n",
      "v2_out = mr_map_nomagic(v2, lambda ripl: ripl.infer(100) )\n",
      "# for v3 we use the magic"
     ],
     "language": "python",
     "metadata": {},
     "outputs": [
      {
       "output_type": "stream",
       "stream": "stdout",
       "text": [
        "['(pid, index, seed)', (4153, 0, 0), (4154, 0, 1)]\n",
        "['(pid, index, seed)', (4153, 0, 0), (4154, 0, 1)]"
       ]
      },
      {
       "output_type": "stream",
       "stream": "stdout",
       "text": [
        "\n",
        "['(pid, index, seed)', (4153, 0, 0), (4154, 0, 1)]"
       ]
      },
      {
       "output_type": "stream",
       "stream": "stdout",
       "text": [
        "\n"
       ]
      }
     ],
     "prompt_number": 15
    },
    {
     "cell_type": "code",
     "collapsed": false,
     "input": [
      "%%mr_map v3 inf\n",
      "inf=lambda ripl: ripl.infer(100)"
     ],
     "language": "python",
     "metadata": {},
     "outputs": [
      {
       "metadata": {},
       "output_type": "pyout",
       "prompt_number": 16,
       "text": [
        "{'info': {'mripl': 'v3', 'proc': 'inf'}, 'out': [None, None]}"
       ]
      }
     ],
     "prompt_number": 16
    },
    {
     "cell_type": "code",
     "collapsed": false,
     "input": [
      "# we now get info from all ripls, which should be identical because seeds are identical\n",
      "def get_zs(mripl): return [mripl.sample('(z %i)' % i) for i in range(n) ]\n",
      "zs = [get_zs(v) for v in vs]\n",
      "assert zs[0]==zs[1]==zs[2]\n"
     ],
     "language": "python",
     "metadata": {},
     "outputs": [],
     "prompt_number": 18
    }
   ],
   "metadata": {}
  }
 ]
}