{
 "metadata": {
  "name": ""
 },
 "nbformat": 3,
 "nbformat_minor": 0,
 "worksheets": [
  {
   "cells": [
    {
     "cell_type": "code",
     "collapsed": false,
     "input": [
      "x,_ = %v [assume x (beta 1 1)]"
     ],
     "language": "python",
     "metadata": {},
     "outputs": [
      {
       "output_type": "stream",
       "stream": "stdout",
       "text": [
        "[directive_id: 2].  assume x   =  0.22719978469 \n"
       ]
      }
     ],
     "prompt_number": 2
    },
    {
     "cell_type": "code",
     "collapsed": false,
     "input": [
      "x"
     ],
     "language": "python",
     "metadata": {},
     "outputs": [
      {
       "metadata": {},
       "output_type": "pyout",
       "prompt_number": 3,
       "text": [
        "0.22719978468988467"
       ]
      }
     ],
     "prompt_number": 3
    },
    {
     "cell_type": "code",
     "collapsed": false,
     "input": [
      "%%v\n",
      "[assume x (normal 0 1)]\n",
      "[assume y (normal x 1)]"
     ],
     "language": "python",
     "metadata": {},
     "outputs": [
      {
       "output_type": "stream",
       "stream": "stdout",
       "text": [
        "[directive_id: 3].  assume x   =  1.30635365291 \n",
        "[directive_id: 4].  assume y   =  0.0924548305368 \n"
       ]
      },
      {
       "metadata": {},
       "output_type": "pyout",
       "prompt_number": 4,
       "text": [
        "([1.306353652910482, 0.0924548305368042],\n",
        " [{'directive_id': 3, 'value': {'type': 'number', 'value': 1.306353652910482}},\n",
        "  {'directive_id': 4,\n",
        "   'value': {'type': 'number', 'value': 0.0924548305368042}}])"
       ]
      }
     ],
     "prompt_number": 4
    },
    {
     "cell_type": "code",
     "collapsed": false,
     "input": [
      "v=ipy_ripl"
     ],
     "language": "python",
     "metadata": {},
     "outputs": [],
     "prompt_number": 5
    },
    {
     "cell_type": "code",
     "collapsed": false,
     "input": [],
     "language": "python",
     "metadata": {},
     "outputs": [
      {
       "metadata": {},
       "output_type": "pyout",
       "prompt_number": 7,
       "text": [
        "[{'directive_id': 1,\n",
        "  'expression': ['beta',\n",
        "   {'type': 'number', 'value': 1.0},\n",
        "   {'type': 'number', 'value': 1.0}],\n",
        "  'instruction': 'assume',\n",
        "  'symbol': 'x',\n",
        "  'value': 0.27294136617734005},\n",
        " {'directive_id': 2,\n",
        "  'expression': ['beta',\n",
        "   {'type': 'number', 'value': 1.0},\n",
        "   {'type': 'number', 'value': 1.0}],\n",
        "  'instruction': 'assume',\n",
        "  'symbol': 'x',\n",
        "  'value': 0.22719978468988467},\n",
        " {'directive_id': 3,\n",
        "  'expression': ['normal',\n",
        "   {'type': 'number', 'value': 0.0},\n",
        "   {'type': 'number', 'value': 1.0}],\n",
        "  'instruction': 'assume',\n",
        "  'symbol': 'x',\n",
        "  'value': 1.306353652910482},\n",
        " {'directive_id': 4,\n",
        "  'expression': ['normal', 'x', {'type': 'number', 'value': 1.0}],\n",
        "  'instruction': 'assume',\n",
        "  'symbol': 'y',\n",
        "  'value': 0.0924548305368042}]"
       ]
      }
     ],
     "prompt_number": 7
    },
    {
     "cell_type": "code",
     "collapsed": false,
     "input": [],
     "language": "python",
     "metadata": {},
     "outputs": []
    }
   ],
   "metadata": {}
  }
 ]
}