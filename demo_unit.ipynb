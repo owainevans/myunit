{
 "metadata": {
  "name": ""
 },
 "nbformat": 3,
 "nbformat_minor": 0,
 "worksheets": [
  {
   "cells": [
    {
     "cell_type": "heading",
     "level": 2,
     "metadata": {},
     "source": [
      "Demos of Venture Unit"
     ]
    },
    {
     "cell_type": "code",
     "collapsed": false,
     "input": [
      "%%vl \n",
      "[clear]\n",
      "[assume coin (* .1 (beta 1 1) ) ]\n",
      "[assume x (flip coin) ]\n",
      "[observe x true ]\n",
      "[observe (flip coin) true ]"
     ],
     "language": "python",
     "metadata": {},
     "outputs": []
    },
    {
     "cell_type": "code",
     "collapsed": false,
     "input": [
      "%%unit\n",
      "[assume loc (normal 0. 100.)]\n",
      "[assume m1 (normal loc 3.)]\n",
      "[assume x11 (normal m1 .3)]\n",
      "[assume x12 (normal m1 .3)]"
     ],
     "language": "python",
     "metadata": {},
     "outputs": []
    },
    {
     "cell_type": "code",
     "collapsed": false,
     "input": [
      "%%unit run\n",
      "[assume loc (normal 0. 100.)]\n",
      "[assume m1 (normal loc 3.)]\n",
      "[assume m2 (normal loc 3.)]\n",
      "[assume x11 (normal m1 .3)]\n",
      "[assume x12 (normal m1 .3)]\n",
      "[assume x13 (normal m1 .3)]\n",
      "[assume x14 (normal m1 .3)]\n",
      "[assume x21 (normal m2 .3)]\n",
      "[assume x22 (normal m2 .3)]\n",
      "[observe x11 1.]\n",
      "[observe x12 1.]\n",
      "[observe x13 1.]\n",
      "[observe x14 1.]\n",
      "[observe x21 5.]\n",
      "[observe x22 5.]"
     ],
     "language": "python",
     "metadata": {},
     "outputs": []
    },
    {
     "cell_type": "code",
     "collapsed": false,
     "input": [
      "%%unit kl:(200,300,4)\n",
      "[assume loc (normal 0. 100.)]\n",
      "[assume m1 (normal loc 3.)]\n",
      "[assume x11 (normal m1 .3)]\n",
      "[assume x12 (normal m1 .3)]\n",
      "[observe x11 1.]\n",
      "[observe x12 1.]"
     ],
     "language": "python",
     "metadata": {},
     "outputs": []
    },
    {
     "cell_type": "code",
     "collapsed": false,
     "input": [
      "model_instance = _"
     ],
     "language": "python",
     "metadata": {},
     "outputs": []
    },
    {
     "cell_type": "code",
     "collapsed": false,
     "input": [
      "cond_hist = model_instance.runFromConditional(120,runs=2,verbose=False)"
     ],
     "language": "python",
     "metadata": {},
     "outputs": []
    },
    {
     "cell_type": "code",
     "collapsed": false,
     "input": [
      "cond_hist.plot(no_histograms=1,no_flat_series=1)"
     ],
     "language": "python",
     "metadata": {},
     "outputs": []
    },
    {
     "cell_type": "code",
     "collapsed": false,
     "input": [
      "cond_hist_long = model_instance.runFromConditional(250,runs=5,verbose=False)"
     ],
     "language": "python",
     "metadata": {},
     "outputs": []
    },
    {
     "cell_type": "heading",
     "level": 2,
     "metadata": {},
     "source": [
      "Useful Features of Magic Commands"
     ]
    },
    {
     "cell_type": "code",
     "collapsed": false,
     "input": [
      "# Supress output!\n",
      "np.random.poisson(1,1000);"
     ],
     "language": "python",
     "metadata": {},
     "outputs": [],
     "prompt_number": 29
    },
    {
     "cell_type": "code",
     "collapsed": false,
     "input": [
      "%%bash\n",
      "echo 'hello'\n",
      "echo 'gulp' >&2\n",
      "echo 'burble' >&3"
     ],
     "language": "python",
     "metadata": {},
     "outputs": [
      {
       "output_type": "stream",
       "stream": "stdout",
       "text": [
        "hello\n"
       ]
      },
      {
       "output_type": "stream",
       "stream": "stderr",
       "text": [
        "gulp\n"
       ]
      }
     ],
     "prompt_number": 28
    },
    {
     "cell_type": "code",
     "collapsed": false,
     "input": [
      "%%writefile gulp.sh\n",
      "echo 'hello'\n",
      "echo 'gulp' >&2"
     ],
     "language": "python",
     "metadata": {},
     "outputs": [
      {
       "output_type": "stream",
       "stream": "stdout",
       "text": [
        "Writing gulp.sh\n"
       ]
      }
     ],
     "prompt_number": 22
    },
    {
     "cell_type": "code",
     "collapsed": false,
     "input": [
      "!./gulp.sh"
     ],
     "language": "python",
     "metadata": {},
     "outputs": [
      {
       "output_type": "stream",
       "stream": "stdout",
       "text": [
        "hello\r\n",
        "gulp\r\n"
       ]
      }
     ],
     "prompt_number": 26
    },
    {
     "cell_type": "markdown",
     "metadata": {},
     "source": [
      "Example of calling bash on program specified as string. will print lines at specified time."
     ]
    },
    {
     "cell_type": "code",
     "collapsed": false,
     "input": [
      "%%script --bg --out bashout bash -c \"while read line; do echo $line; sleep 1; done\"\n",
      "line 1\n",
      "line 2\n",
      "line 3\n",
      "line 4\n",
      "line 5"
     ],
     "language": "python",
     "metadata": {},
     "outputs": [
      {
       "output_type": "stream",
       "stream": "stdout",
       "text": [
        "Starting job # 2 in a separate thread.\n"
       ]
      }
     ],
     "prompt_number": 32
    },
    {
     "cell_type": "code",
     "collapsed": false,
     "input": [
      "import time\n",
      "tic = time.time()\n",
      "line = True\n",
      "while True:\n",
      "    line = bashout.readline()\n",
      "    if not line:\n",
      "        break\n",
      "    sys.stdout.write(\"%.1fs: %s\" %(time.time()-tic, line))\n",
      "    sys.stdout.flush()"
     ],
     "language": "python",
     "metadata": {},
     "outputs": [],
     "prompt_number": 35
    },
    {
     "cell_type": "heading",
     "level": 1,
     "metadata": {},
     "source": [
      "Unit with multiple Explanations"
     ]
    },
    {
     "cell_type": "markdown",
     "metadata": {},
     "source": [
      "---PLAN:\n",
      "Run same model on multiple ripls. Extract time series on some variable and combine on a single plot. Also plot the series of the individual RIPLS. "
     ]
    },
    {
     "cell_type": "code",
     "collapsed": false,
     "input": [
      "import vent_magic_play\n",
      "#  RECALL that ripl generation is slow coz of cxx bug"
     ],
     "language": "python",
     "metadata": {},
     "outputs": [],
     "prompt_number": 34
    },
    {
     "cell_type": "code",
     "collapsed": false,
     "input": [
      "ip=get_ipython()\n",
      "load_ipython_extension(ip)\n",
      "%reload_ext vent_magic_play"
     ],
     "language": "python",
     "metadata": {},
     "outputs": [],
     "prompt_number": 35
    },
    {
     "cell_type": "code",
     "collapsed": false,
     "input": [
      "%%unit 30\n",
      "[assume loc (normal 0. 30.)]\n",
      "[assume m1 (normal loc 3.)]\n",
      "[assume x11 (normal m1 .3)]\n",
      "[assume x12 (normal m1 .3)]\n",
      "[assume x13 (normal m1 10)]\n",
      "[observe x11 1.]\n",
      "[observe x12 1.]\n",
      "[observe x13 1.]"
     ],
     "language": "python",
     "metadata": {},
     "outputs": [
      {
       "output_type": "stream",
       "stream": "stdout",
       "text": [
        "using 30 explanations\n"
       ]
      },
      {
       "metadata": {},
       "output_type": "pyout",
       "prompt_number": 21,
       "text": [
        "[<vent_magic_play.MyModelClass instance at 0xbc990ec>,\n",
        " <vent_magic_play.MyModelClass instance at 0xd217fcc>,\n",
        " <vent_magic_play.MyModelClass instance at 0xe708b6c>,\n",
        " <vent_magic_play.MyModelClass instance at 0xa20464c>,\n",
        " <vent_magic_play.MyModelClass instance at 0xf359a4c>,\n",
        " <vent_magic_play.MyModelClass instance at 0xd11b3cc>,\n",
        " <vent_magic_play.MyModelClass instance at 0xec48b6c>,\n",
        " <vent_magic_play.MyModelClass instance at 0xcc22bcc>,\n",
        " <vent_magic_play.MyModelClass instance at 0xe4887ec>,\n",
        " <vent_magic_play.MyModelClass instance at 0xe1ebccc>,\n",
        " <vent_magic_play.MyModelClass instance at 0xe9a998c>,\n",
        " <vent_magic_play.MyModelClass instance at 0xd06d94c>,\n",
        " <vent_magic_play.MyModelClass instance at 0xb7c1a0c>,\n",
        " <vent_magic_play.MyModelClass instance at 0xccdf52c>,\n",
        " <vent_magic_play.MyModelClass instance at 0xccdffac>,\n",
        " <vent_magic_play.MyModelClass instance at 0xccdffec>,\n",
        " <vent_magic_play.MyModelClass instance at 0xccdfc4c>,\n",
        " <vent_magic_play.MyModelClass instance at 0xa2b292c>,\n",
        " <vent_magic_play.MyModelClass instance at 0xeeba78c>,\n",
        " <vent_magic_play.MyModelClass instance at 0xb433ecc>,\n",
        " <vent_magic_play.MyModelClass instance at 0xa2a738c>,\n",
        " <vent_magic_play.MyModelClass instance at 0xb4ab02c>,\n",
        " <vent_magic_play.MyModelClass instance at 0xb72d0ac>,\n",
        " <vent_magic_play.MyModelClass instance at 0xca0b24c>,\n",
        " <vent_magic_play.MyModelClass instance at 0xc9fefac>,\n",
        " <vent_magic_play.MyModelClass instance at 0xcddea4c>,\n",
        " <vent_magic_play.MyModelClass instance at 0xd004a2c>,\n",
        " <vent_magic_play.MyModelClass instance at 0xc51dc6c>,\n",
        " <vent_magic_play.MyModelClass instance at 0xc51dc8c>,\n",
        " <vent_magic_play.MyModelClass instance at 0xcc3e32c>]"
       ]
      }
     ],
     "prompt_number": 21
    },
    {
     "cell_type": "code",
     "collapsed": false,
     "input": [
      "models = _\n",
      "no_sweeps = 80\n",
      "hists = [model.runFromConditional(sweeps=no_sweeps, runs=1) for model in models]\n",
      "print hists\n"
     ],
     "language": "python",
     "metadata": {},
     "outputs": [
      {
       "output_type": "stream",
       "stream": "stdout",
       "text": [
        "[<my_unit.History instance at 0xb47a40c>, <my_unit.History instance at 0xbc8be8c>, <my_unit.History instance at 0xa2a242c>, <my_unit.History instance at 0xa89912c>, <my_unit.History instance at 0xc970c6c>, <my_unit.History instance at 0xc52604c>, <my_unit.History instance at 0xdf858cc>, <my_unit.History instance at 0xcfffb2c>, <my_unit.History instance at 0xe4a6fec>, <my_unit.History instance at 0xb63d1ec>, <my_unit.History instance at 0xcc25ecc>, <my_unit.History instance at 0xcc56d4c>, <my_unit.History instance at 0xd004d0c>, <my_unit.History instance at 0xcc3786c>, <my_unit.History instance at 0xa1f87ec>, <my_unit.History instance at 0xca09d4c>, <my_unit.History instance at 0xe71f22c>, <my_unit.History instance at 0xc0dd16c>, <my_unit.History instance at 0xc52618c>, <my_unit.History instance at 0xc9a252c>, <my_unit.History instance at 0xb75204c>, <my_unit.History instance at 0xca04b6c>, <my_unit.History instance at 0xb456fec>, <my_unit.History instance at 0xcd61dec>, <my_unit.History instance at 0xd193fec>, <my_unit.History instance at 0xb5caf4c>, <my_unit.History instance at 0xcdca9ec>, <my_unit.History instance at 0xb5df96c>, <my_unit.History instance at 0xb49958c>, <my_unit.History instance at 0xb814e0c>]\n"
       ]
      }
     ],
     "prompt_number": 28
    },
    {
     "cell_type": "code",
     "collapsed": false,
     "input": [
      "# put the series for the 'loc' parameters into 'agg_series' for each ripl\n",
      "\n",
      "no_ripls = len(models)\n",
      "agg_series = zeros((no_ripls,no_sweeps) )\n",
      "for count,history in enumerate(hists):\n",
      "    agg_series[count,:] = history.nameToSeries['loc'][0].values\n",
      "\n"
     ],
     "language": "python",
     "metadata": {},
     "outputs": [],
     "prompt_number": 30
    },
    {
     "cell_type": "code",
     "collapsed": false,
     "input": [
      "agg_series\n",
      "x=arange(no_sweeps)\n",
      "for i in range(no_ripls):\n",
      "    plot(x,agg_series[i,:])"
     ],
     "language": "python",
     "metadata": {},
     "outputs": [
      {
       "metadata": {},
       "output_type": "display_data",
       "png": "[encoded data removed]",
       "text": [
        "<matplotlib.figure.Figure at 0xb7c192c>"
       ]
      }
     ],
     "prompt_number": 31
    },
    {
     "cell_type": "code",
     "collapsed": false,
     "input": [
      "agg_means = mean(agg_series,axis=0)\n",
      "print agg_means[ range(0,no_sweeps,5) ]"
     ],
     "language": "python",
     "metadata": {},
     "outputs": [
      {
       "output_type": "stream",
       "stream": "stdout",
       "text": [
        "[ 10.33506853  10.14589592  10.56622729  11.11335624  10.64704134\n",
        "  10.61548471   9.53409287   8.63285776   8.10970811   8.74468251\n",
        "   7.44005754   6.98066715   6.91611502   6.73414088   6.41660691\n",
        "   5.30365782]\n"
       ]
      }
     ],
     "prompt_number": 32
    },
    {
     "cell_type": "code",
     "collapsed": false,
     "input": [
      "agg_histo = [0] * no_sweeps\n",
      "for i in range(no_sweeps):\n",
      "    agg_histo[i] = histogram(agg_series[:,i])\n",
      "    if i%20==0: hist(agg_series[:,i],bins=20)"
     ],
     "language": "python",
     "metadata": {},
     "outputs": [
      {
       "metadata": {},
       "output_type": "display_data",
       "png": "[encoded data removed]",
       "text": [
        "<matplotlib.figure.Figure at 0xc5c3a4c>"
       ]
      }
     ],
     "prompt_number": 33
    },
    {
     "cell_type": "code",
     "collapsed": false,
     "input": [],
     "language": "python",
     "metadata": {},
     "outputs": [
      {
       "metadata": {},
       "output_type": "pyout",
       "prompt_number": 15,
       "text": [
        "(array([2, 1, 0, 0, 1, 1, 0, 1, 2, 2]),\n",
        " array([-53.71256035, -46.11016538, -38.50777042, -30.90537545,\n",
        "       -23.30298049, -15.70058552,  -8.09819056,  -0.4957956 ,\n",
        "         7.10659937,  14.70899433,  22.3113893 ]))"
       ]
      }
     ],
     "prompt_number": 15
    },
    {
     "cell_type": "code",
     "collapsed": false,
     "input": [
      "agg_histo[-1]"
     ],
     "language": "python",
     "metadata": {},
     "outputs": [
      {
       "metadata": {},
       "output_type": "pyout",
       "prompt_number": 16,
       "text": [
        "(array([2, 0, 0, 0, 1, 3, 2, 1, 0, 1]),\n",
        " array([-19.49200332, -16.44484282, -13.39768231, -10.35052181,\n",
        "        -7.30336131,  -4.25620081,  -1.2090403 ,   1.8381202 ,\n",
        "         4.8852807 ,   7.93244121,  10.97960171]))"
       ]
      }
     ],
     "prompt_number": 16
    },
    {
     "cell_type": "code",
     "collapsed": false,
     "input": [],
     "language": "python",
     "metadata": {},
     "outputs": []
    }
   ],
   "metadata": {}
  }
 ]
}