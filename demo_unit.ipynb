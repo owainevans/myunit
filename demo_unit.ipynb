{
 "metadata": {
  "name": ""
 },
 "nbformat": 3,
 "nbformat_minor": 0,
 "worksheets": [
  {
   "cells": [
    {
     "cell_type": "heading",
     "level": 2,
     "metadata": {},
     "source": [
      "Demos of Venture Unit"
     ]
    },
    {
     "cell_type": "code",
     "collapsed": false,
     "input": [
      "%%vl \n",
      "[clear]\n",
      "[assume coin (* .1 (beta 1 1) ) ]\n",
      "[assume x (flip coin) ]\n",
      "[observe x true ]\n",
      "[observe (flip coin) true ]"
     ],
     "language": "python",
     "metadata": {},
     "outputs": []
    },
    {
     "cell_type": "code",
     "collapsed": false,
     "input": [
      "%%unit\n",
      "[assume loc (normal 0. 100.)]\n",
      "[assume m1 (normal loc 3.)]\n",
      "[assume x11 (normal m1 .3)]\n",
      "[assume x12 (normal m1 .3)]"
     ],
     "language": "python",
     "metadata": {},
     "outputs": []
    },
    {
     "cell_type": "code",
     "collapsed": false,
     "input": [
      "%%unit run\n",
      "[assume loc (normal 0. 100.)]\n",
      "[assume m1 (normal loc 3.)]\n",
      "[assume m2 (normal loc 3.)]\n",
      "[assume x11 (normal m1 .3)]\n",
      "[assume x12 (normal m1 .3)]\n",
      "[assume x13 (normal m1 .3)]\n",
      "[assume x14 (normal m1 .3)]\n",
      "[assume x21 (normal m2 .3)]\n",
      "[assume x22 (normal m2 .3)]\n",
      "[observe x11 1.]\n",
      "[observe x12 1.]\n",
      "[observe x13 1.]\n",
      "[observe x14 1.]\n",
      "[observe x21 5.]\n",
      "[observe x22 5.]"
     ],
     "language": "python",
     "metadata": {},
     "outputs": []
    },
    {
     "cell_type": "code",
     "collapsed": false,
     "input": [
      "%%unit kl:(200,300,4)\n",
      "[assume loc (normal 0. 100.)]\n",
      "[assume m1 (normal loc 3.)]\n",
      "[assume x11 (normal m1 .3)]\n",
      "[assume x12 (normal m1 .3)]\n",
      "[observe x11 1.]\n",
      "[observe x12 1.]"
     ],
     "language": "python",
     "metadata": {},
     "outputs": []
    },
    {
     "cell_type": "code",
     "collapsed": false,
     "input": [
      "model_instance = _"
     ],
     "language": "python",
     "metadata": {},
     "outputs": []
    },
    {
     "cell_type": "code",
     "collapsed": false,
     "input": [
      "cond_hist = model_instance.runFromConditional(120,runs=2,verbose=False)"
     ],
     "language": "python",
     "metadata": {},
     "outputs": []
    },
    {
     "cell_type": "code",
     "collapsed": false,
     "input": [
      "cond_hist.plot(no_histograms=1,no_flat_series=1)"
     ],
     "language": "python",
     "metadata": {},
     "outputs": []
    },
    {
     "cell_type": "code",
     "collapsed": false,
     "input": [
      "cond_hist_long = model_instance.runFromConditional(250,runs=5,verbose=False)"
     ],
     "language": "python",
     "metadata": {},
     "outputs": []
    },
    {
     "cell_type": "heading",
     "level": 2,
     "metadata": {},
     "source": [
      "Useful Features of Magic Commands"
     ]
    },
    {
     "cell_type": "code",
     "collapsed": false,
     "input": [
      "# Supress output!\n",
      "np.random.poisson(1,1000);"
     ],
     "language": "python",
     "metadata": {},
     "outputs": [],
     "prompt_number": 29
    },
    {
     "cell_type": "code",
     "collapsed": false,
     "input": [
      "%%bash\n",
      "echo 'hello'\n",
      "echo 'gulp' >&2\n",
      "echo 'burble' >&3"
     ],
     "language": "python",
     "metadata": {},
     "outputs": [
      {
       "output_type": "stream",
       "stream": "stdout",
       "text": [
        "hello\n"
       ]
      },
      {
       "output_type": "stream",
       "stream": "stderr",
       "text": [
        "gulp\n"
       ]
      }
     ],
     "prompt_number": 28
    },
    {
     "cell_type": "code",
     "collapsed": false,
     "input": [
      "%%writefile gulp.sh\n",
      "echo 'hello'\n",
      "echo 'gulp' >&2"
     ],
     "language": "python",
     "metadata": {},
     "outputs": [
      {
       "output_type": "stream",
       "stream": "stdout",
       "text": [
        "Writing gulp.sh\n"
       ]
      }
     ],
     "prompt_number": 22
    },
    {
     "cell_type": "code",
     "collapsed": false,
     "input": [
      "!./gulp.sh"
     ],
     "language": "python",
     "metadata": {},
     "outputs": [
      {
       "output_type": "stream",
       "stream": "stdout",
       "text": [
        "hello\r\n",
        "gulp\r\n"
       ]
      }
     ],
     "prompt_number": 26
    },
    {
     "cell_type": "markdown",
     "metadata": {},
     "source": [
      "Example of calling bash on program specified as string. will print lines at specified time."
     ]
    },
    {
     "cell_type": "code",
     "collapsed": false,
     "input": [
      "%%script --bg --out bashout bash -c \"while read line; do echo $line; sleep 1; done\"\n",
      "line 1\n",
      "line 2\n",
      "line 3\n",
      "line 4\n",
      "line 5"
     ],
     "language": "python",
     "metadata": {},
     "outputs": [
      {
       "output_type": "stream",
       "stream": "stdout",
       "text": [
        "Starting job # 2 in a separate thread.\n"
       ]
      }
     ],
     "prompt_number": 32
    },
    {
     "cell_type": "code",
     "collapsed": false,
     "input": [
      "import time\n",
      "tic = time.time()\n",
      "line = True\n",
      "while True:\n",
      "    line = bashout.readline()\n",
      "    if not line:\n",
      "        break\n",
      "    sys.stdout.write(\"%.1fs: %s\" %(time.time()-tic, line))\n",
      "    sys.stdout.flush()"
     ],
     "language": "python",
     "metadata": {},
     "outputs": [],
     "prompt_number": 35
    },
    {
     "cell_type": "code",
     "collapsed": false,
     "input": [],
     "language": "python",
     "metadata": {},
     "outputs": []
    }
   ],
   "metadata": {}
  }
 ]
}