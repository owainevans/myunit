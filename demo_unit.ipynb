{
 "metadata": {
  "name": ""
 },
 "nbformat": 3,
 "nbformat_minor": 0,
 "worksheets": [
  {
   "cells": [
    {
     "cell_type": "heading",
     "level": 2,
     "source": [
      "Demos of Venture Unit"
     ]
    },
    {
     "cell_type": "code",
     "collapsed": false,
     "input": [
      "%%vl\n",
      "[clear]\n",
      "[assume w (uniform_continuous 0 5) ]\n",
      "[assume y_i (mem\n",
      "             (lambda (i) (flip) )\n",
      "             ) ]\n",
      "[assume y1 (y_i 1) ]\n",
      "[assume y1 (y_i 1) ]\n"
     ],
     "language": "python",
     "outputs": [
      {
       "output_type": "stream",
       "stream": "stdout",
       "text": [
        "[CLEAR ]\n",
        "[ASSUME w (uniform_continuous 0 5)]\n",
        "2.53055070178\n",
        "[ASSUME y_i (mem (lambda (i) (flip) ) )]\n",
        "sp\n",
        "[ASSUME y1 (y_i 1)]\n",
        "True\n",
        "[ASSUME y1 (y_i 1)]\n",
        "True\n"
       ]
      },
      {
       "output_type": "pyout",
       "prompt_number": 2,
       "text": [
        "[{},\n",
        " {'directive_id': 1, 'value': {'type': 'number', 'value': 2.5305507017765194}},\n",
        " {'directive_id': 2, 'value': {'type': 'sp', 'value': 'sp'}},\n",
        " {'directive_id': 3, 'value': {'type': 'boolean', 'value': True}},\n",
        " {'directive_id': 4, 'value': {'type': 'boolean', 'value': True}}]"
       ]
      }
     ],
     "prompt_number": 2
    },
    {
     "cell_type": "code",
     "collapsed": false,
     "input": [
      "%%vl \n",
      "[clear]\n",
      "[assume coin (* .1 (beta 1 1) ) ]\n",
      "[assume x (flip coin) ]\n",
      "[observe x true ]\n",
      "[observe (flip coin) true ]"
     ],
     "language": "python",
     "outputs": [
      {
       "output_type": "stream",
       "stream": "stdout",
       "text": [
        "[CLEAR ]\n",
        "[ASSUME coin (* .1 (beta 1 1) )]\n",
        "0.08623017707\n",
        "[ASSUME x (flip coin)]\n",
        "True\n",
        "[OBSERVE x true]\n",
        "[OBSERVE (flip coin) true]\n"
       ]
      },
      {
       "metadata": null,
       "output_type": "pyout",
       "prompt_number": 1,
       "text": [
        "[{},\n",
        " {'directive_id': 1, 'value': {'type': 'number', 'value': 0.0862301770700498}},\n",
        " {'directive_id': 2, 'value': {'type': 'boolean', 'value': True}},\n",
        " {'directive_id': 3},\n",
        " {'directive_id': 4}]"
       ]
      }
     ],
     "prompt_number": 1
    },
    {
     "cell_type": "code",
     "collapsed": false,
     "input": [
      "%%unit\n",
      "[assume loc (normal 0. 100.)]\n",
      "[assume m1 (normal loc 3.)]\n",
      "[assume x11 (normal m1 .3)]\n",
      "[assume x12 (normal m1 .3)]"
     ],
     "language": "python",
     "outputs": []
    },
    {
     "cell_type": "code",
     "collapsed": false,
     "input": [
      "%%unit run\n",
      "[assume loc (normal 0. 100.)]\n",
      "[assume m1 (normal loc 3.)]\n",
      "[assume m2 (normal loc 3.)]\n",
      "[assume x11 (normal m1 .3)]\n",
      "[assume x12 (normal m1 .3)]\n",
      "[assume x13 (normal m1 .3)]\n",
      "[assume x14 (normal m1 .3)]\n",
      "[assume x21 (normal m2 .3)]\n",
      "[assume x22 (normal m2 .3)]\n",
      "[observe x11 1.]\n",
      "[observe x12 1.]\n",
      "[observe x13 1.]\n",
      "[observe x14 1.]\n",
      "[observe x21 5.]\n",
      "[observe x22 5.]"
     ],
     "language": "python",
     "outputs": []
    },
    {
     "cell_type": "code",
     "collapsed": false,
     "input": [
      "%%unit kl:(200,300,4)\n",
      "[assume loc (normal 0. 100.)]\n",
      "[assume m1 (normal loc 3.)]\n",
      "[assume x11 (normal m1 .3)]\n",
      "[assume x12 (normal m1 .3)]\n",
      "[observe x11 1.]\n",
      "[observe x12 1.]"
     ],
     "language": "python",
     "outputs": []
    },
    {
     "cell_type": "code",
     "collapsed": false,
     "input": [
      "model_instance = _"
     ],
     "language": "python",
     "outputs": []
    },
    {
     "cell_type": "code",
     "collapsed": false,
     "input": [
      "cond_hist = model_instance.runFromConditional(120,runs=2,verbose=False)"
     ],
     "language": "python",
     "outputs": []
    },
    {
     "cell_type": "code",
     "collapsed": false,
     "input": [
      "cond_hist.plot(no_histograms=1,no_flat_series=1)"
     ],
     "language": "python",
     "outputs": []
    },
    {
     "cell_type": "code",
     "collapsed": false,
     "input": [
      "cond_hist_long = model_instance.runFromConditional(250,runs=5,verbose=False)"
     ],
     "language": "python",
     "outputs": []
    },
    {
     "cell_type": "heading",
     "level": 2,
     "source": [
      "Useful Features of Magic Commands"
     ]
    },
    {
     "cell_type": "code",
     "collapsed": false,
     "input": [
      "# Supress output!\n",
      "np.random.poisson(1,1000);"
     ],
     "language": "python",
     "outputs": [],
     "prompt_number": 29
    },
    {
     "cell_type": "code",
     "collapsed": false,
     "input": [
      "%%bash\n",
      "echo 'hello'\n",
      "echo 'gulp' >&2\n",
      "echo 'burble' >&3"
     ],
     "language": "python",
     "outputs": [
      {
       "output_type": "stream",
       "stream": "stdout",
       "text": [
        "hello\n"
       ]
      },
      {
       "output_type": "stream",
       "stream": "stderr",
       "text": [
        "gulp\n"
       ]
      }
     ],
     "prompt_number": 3
    },
    {
     "cell_type": "code",
     "collapsed": false,
     "input": [
      "%%writefile gulp.sh\n",
      "echo 'hello'\n",
      "echo 'gulp' >&2"
     ],
     "language": "python",
     "outputs": [
      {
       "output_type": "stream",
       "stream": "stdout",
       "text": [
        "Writing gulp.sh\n"
       ]
      }
     ],
     "prompt_number": 22
    },
    {
     "cell_type": "code",
     "collapsed": false,
     "input": [
      "!./gulp.sh"
     ],
     "language": "python",
     "outputs": [
      {
       "output_type": "stream",
       "stream": "stdout",
       "text": [
        "hello\r\n",
        "gulp\r\n"
       ]
      }
     ],
     "prompt_number": 26
    },
    {
     "cell_type": "markdown",
     "source": [
      "Example of calling bash on program specified as string. will print lines at specified time."
     ]
    },
    {
     "cell_type": "code",
     "collapsed": false,
     "input": [
      "%%script --bg --out bashout bash -c \"while read line; do echo $line; sleep 1; done\"\n",
      "line 1\n",
      "line 2\n",
      "line 3\n",
      "line 4\n",
      "line 5"
     ],
     "language": "python",
     "outputs": [
      {
       "output_type": "stream",
       "stream": "stdout",
       "text": [
        "Starting job # 2 in a separate thread.\n"
       ]
      }
     ],
     "prompt_number": 32
    },
    {
     "cell_type": "code",
     "collapsed": false,
     "input": [
      "import time\n",
      "tic = time.time()\n",
      "line = True\n",
      "while True:\n",
      "    line = bashout.readline()\n",
      "    if not line:\n",
      "        break\n",
      "    sys.stdout.write(\"%.1fs: %s\" %(time.time()-tic, line))\n",
      "    sys.stdout.flush()"
     ],
     "language": "python",
     "outputs": [],
     "prompt_number": 35
    },
    {
     "cell_type": "heading",
     "level": 1,
     "source": [
      "Unit with multiple Explanations"
     ]
    },
    {
     "cell_type": "code",
     "collapsed": false,
     "input": [
      "---PLAN:\n",
      "Run same model on multiple ripls. Extract time series on some variable and combine on a single plot. Also plot the series of the individual RIPLS. \n"
     ],
     "language": "python",
     "outputs": []
    },
    {
     "cell_type": "code",
     "collapsed": false,
     "input": [
      "---PLAN\n",
      "Want to add multiprocessing to current unit thing just as a test of it.\n",
      "Atm, we generate the ripls and then feed each ripl to our model-class\n",
      "constructor to instantiate a model on that ripl. We then aggregate the\n",
      "histories and produce a posterior from the aggregate. This is slow because\n",
      "because we store every sample in python data structures. We don't need\n",
      "to necessarily store all samples (could be an option how much history to\n",
      "store).\n",
      "Multi: for unit, time is mostly spent in the inference run. a sample\n",
      "is that slow, but we've got to record the value of every variable\n",
      "including the observes that go nowhere, and vars that measure\n",
      "how long sweeps are taking. (what's sweep iters, btw?)\n",
      "\n",
      "This job, of running a unit method like 'infer from observations'\n",
      "will be what we want to parallize. (instantiating the ripls and\n",
      "feeding them the directives should always be fast: it's time is\n",
      "just the forward run time of the generative model).                                     "
     ],
     "language": "python",
     "outputs": []
    },
    {
     "cell_type": "code",
     "collapsed": false,
     "input": [
      "import vent_magic_play, time\n",
      "#  RECALL that ripl generation is slow coz of cxx bug"
     ],
     "language": "python",
     "outputs": [],
     "prompt_number": 8
    },
    {
     "cell_type": "code",
     "collapsed": false,
     "input": [
      "ip=get_ipython()\n",
      "load_ipython_extension(ip)\n",
      "%reload_ext vent_magic_play"
     ],
     "language": "python",
     "outputs": [
      {
       "output_type": "stream",
       "stream": "stdout",
       "text": [
        "loaded VentureMagics\n"
       ]
      }
     ],
     "prompt_number": 2
    },
    {
     "cell_type": "code",
     "collapsed": false,
     "input": [
      "%%unit 3\n",
      "[assume loc (normal 0. 30.)]\n",
      "[assume m1 (normal loc 3.)]\n",
      "[assume x11 (normal m1 .3)]\n",
      "[assume x12 (normal m1 .3)]\n",
      "[assume x13 (normal m1 10)]\n",
      "[observe x11 20.]\n",
      "[observe x12 20.]\n",
      "[observe x13 20.]"
     ],
     "language": "python",
     "outputs": [
      {
       "output_type": "stream",
       "stream": "stdout",
       "text": [
        "using 3 explanations\n"
       ]
      },
      {
       "output_type": "pyout",
       "prompt_number": 3,
       "text": [
        "[<vent_magic_play.MyModelClass instance at 0xa3f08ec>,\n",
        " <vent_magic_play.MyModelClass instance at 0x9f3124c>,\n",
        " <vent_magic_play.MyModelClass instance at 0xa3088ac>]"
       ]
      }
     ],
     "prompt_number": 3
    },
    {
     "cell_type": "code",
     "collapsed": false,
     "input": [
      "start = time.time()\n",
      "models = _\n",
      "no_ripls = len(models)\n",
      "\n",
      "no_sweeps = 20\n",
      "hists = [model.runFromConditional(sweeps=no_sweeps, runs=1) for model in models]\n",
      "print 'series for each chain:', hists[0].nameToSeries.keys()\n",
      "print 'time per sweep',(time.time() - start)/no_sweeps"
     ],
     "language": "python",
     "outputs": [
      {
       "output_type": "stream",
       "stream": "stdout",
       "text": [
        "series for each chain: ['loc', 'sweep_iters', 'logscore', 'm1', 'sweep_time', 'x11', 'x12', 'x13']\n",
        "time per sweep 0.12650359869\n"
       ]
      }
     ],
     "prompt_number": 4
    },
    {
     "cell_type": "code",
     "collapsed": false,
     "input": [
      "# create a dict, with key for each variable in history, that aggregates the histories of each chain\n",
      "\n",
      "agg_series = {  key:zeros((no_ripls,no_sweeps) )  for key in hists[0].nameToSeries.keys() }\n",
      "\n",
      "for var_name in agg_series.keys():\n",
      "    for count,history in enumerate(hists):\n",
      "        agg_series[var_name][count,:] = history.nameToSeries[var_name][0].values\n"
     ],
     "language": "python",
     "outputs": [],
     "prompt_number": 5
    },
    {
     "cell_type": "code",
     "collapsed": false,
     "input": [
      "def plot_variable(ax,agg_series,var_name,no_sweeps,no_ripls,subset=False):\n",
      "    x=arange(no_sweeps)\n",
      "    limit = min(no_ripls,8)  if subset else no_ripls    \n",
      "    for i in range(limit):\n",
      "        ax.plot(x,agg_series[var_name][i,:])\n",
      "\n",
      "#fig,ax = subplots()\n",
      "# plot_variable(ax,agg_series,'loc',no_sweeps,no_ripls,subset=True)"
     ],
     "language": "python",
     "outputs": [],
     "prompt_number": 11
    },
    {
     "cell_type": "code",
     "collapsed": false,
     "input": [
      "var_names = ['logscore','m1']\n",
      "fig,ax = subplots(ncols=len(var_names),sharex=True,figsize=(12,5) )\n",
      "\n",
      "for count,var_name in enumerate(var_names):\n",
      "    plot_variable(ax[count],agg_series,var_name,no_sweeps,no_ripls,subset=True)\n",
      "    ax[count].set_title(var_name)\n",
      "# for i,var_name in enumerate(agg_series):\n",
      "#     if i < (len(agg_series)-3): \n",
      "#         for j in range(no_ripls):\n",
      "#             ax[i].plot(x,agg_series[var_name][j,:],label='R'+str(j))\n",
      "#         ax[i].legend()\n",
      "#         ax[i].set_title(var_name)"
     ],
     "language": "python",
     "outputs": [
      {
       "output_type": "display_data",
       "png": "[encoded data removed]",
       "text": [
        "<matplotlib.figure.Figure at 0xa8d938c>"
       ]
      }
     ],
     "prompt_number": 14
    },
    {
     "cell_type": "code",
     "collapsed": false,
     "input": [],
     "language": "python",
     "outputs": []
    },
    {
     "cell_type": "code",
     "collapsed": false,
     "input": [
      "agg_means = mean(agg_series,axis=0)\n",
      "print agg_means[ range(0,no_sweeps,5) ]"
     ],
     "language": "python",
     "outputs": [
      {
       "output_type": "stream",
       "stream": "stdout",
       "text": [
        "[-8.85799492 -6.74614221 -6.31352318 -5.23627325 -3.10761794 -0.76312126\n",
        " -2.05001516 -2.47389816  0.10534005  0.39111311  1.51104766  0.97084095\n",
        "  1.1512336   1.86097444  0.88391358  1.68406158]\n"
       ]
      }
     ],
     "prompt_number": 8
    },
    {
     "cell_type": "code",
     "collapsed": false,
     "input": [
      "from scipy.stats import kde\n",
      "\n",
      "\n",
      "\n",
      "agg_histo = [0] * no_sweeps\n",
      "for i in range(no_sweeps):\n",
      "    agg_histo[i] = histogram(agg_series['loc'][:,i])\n",
      "    if i%20==0: hist(agg_series['loc'][:,i],bins=30)"
     ],
     "language": "python",
     "outputs": [
      {
       "metadata": null,
       "output_type": "display_data",
       "png": "[encoded data removed]",
       "text": [
        "<matplotlib.figure.Figure at 0x212de90c>"
       ]
      }
     ],
     "prompt_number": 32
    },
    {
     "cell_type": "code",
     "collapsed": false,
     "input": [
      "from scipy.stats import kde\n",
      "\n",
      "xr = linspace(-100,100,1000)\n",
      "points = 4\n",
      "fig,ax = subplots()\n",
      "\n",
      "for i in range(no_sweeps):\n",
      "    if i%(no_sweeps/points)==0 or i==no_sweeps:\n",
      "        pdf= kde.gaussian_kde(agg_series['loc'][:,i])\n",
      "        ax.plot(xr,pdf(xr),label='sweep '+str(i))\n",
      "ax.legend()\n",
      "        \n"
     ],
     "language": "python",
     "outputs": [
      {
       "metadata": null,
       "output_type": "pyout",
       "prompt_number": 39,
       "text": [
        "<matplotlib.legend.Legend at 0x220c63cc>"
       ]
      },
      {
       "metadata": null,
       "output_type": "display_data",
       "png": "[encoded data removed]",
       "text": [
        "<matplotlib.figure.Figure at 0x21bed70c>"
       ]
      }
     ],
     "prompt_number": 39
    },
    {
     "cell_type": "code",
     "collapsed": false,
     "input": [
      "kde.gaussian_kde?"
     ],
     "language": "python",
     "outputs": [],
     "prompt_number": 41
    },
    {
     "cell_type": "code",
     "collapsed": false,
     "input": [
      "%%unit 4\n",
      "[assume x (beta 1 1)]\n",
      "[assume y (flip x) ]"
     ],
     "language": "python",
     "outputs": [
      {
       "output_type": "stream",
       "stream": "stderr",
       "text": [
        "ERROR: Cell magic `%%unit` not found.\n"
       ]
      }
     ],
     "prompt_number": 1
    },
    {
     "cell_type": "code",
     "collapsed": false,
     "input": [],
     "language": "python",
     "outputs": []
    },
    {
     "cell_type": "code",
     "collapsed": false,
     "input": [
      "\n"
     ],
     "language": "python",
     "outputs": [],
     "prompt_number": 1
    },
    {
     "cell_type": "code",
     "collapsed": false,
     "input": [],
     "language": "python",
     "outputs": [],
     "prompt_number": 9
    }
   ]
  }
 ]
}