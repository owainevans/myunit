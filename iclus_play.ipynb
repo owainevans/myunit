{
 "metadata": {
  "name": ""
 },
 "nbformat": 3,
 "nbformat_minor": 0,
 "worksheets": [
  {
   "cells": [
    {
     "cell_type": "code",
     "collapsed": false,
     "input": [
      "%run iclus.py\n"
     ],
     "language": "python",
     "outputs": [],
     "prompt_number": 1
    },
    {
     "cell_type": "code",
     "collapsed": false,
     "input": [
      "v=MRipl(4)"
     ],
     "language": "python",
     "outputs": [
      {
       "output_type": "stream",
       "stream": "stdout",
       "text": [
        "[{'index': 0, 'seed': 0, 'pid': 2439}, {'index': 1, 'seed': 1, 'pid': 2439}, {'index': 0, 'seed': 2, 'pid': 2444}, {'index': 1, 'seed': 3, 'pid': 2444}]\n"
       ]
      }
     ],
     "prompt_number": 3
    },
    {
     "cell_type": "code",
     "collapsed": false,
     "input": [
      "v.clear()\n",
      "v.assume('x1','(normal 0 10)',label='x1')\n",
      "v.assume('x2','(poisson 10)',label='x2')\n",
      "v.assume('y','(normal x1 2)')\n",
      "v.assume('y2','(normal (+ x1 x2) 1)')\n",
      "v.assume('y3','(> x2 (poisson 3))',label='y3')\n",
      "v.observe('y2','5.')\n",
      "v.observe('y','5.0')"
     ],
     "language": "python",
     "outputs": [
      {
       "output_type": "pyout",
       "prompt_number": 9,
       "text": [
        "[None, None, None, None]"
       ]
      }
     ],
     "prompt_number": 9
    },
    {
     "cell_type": "code",
     "collapsed": false,
     "input": [
      "v.snapshot('y3',plot=True)"
     ],
     "language": "python",
     "outputs": [
      {
       "output_type": "pyout",
       "prompt_number": 10,
       "text": [
        "{'figs': None,\n",
        " 'ripls_info': [{'index': 0, 'pid': 2439, 'seed': 0},\n",
        "  {'index': 1, 'pid': 2439, 'seed': 1},\n",
        "  {'index': 0, 'pid': 2444, 'seed': 2},\n",
        "  {'index': 1, 'pid': 2444, 'seed': 3}],\n",
        " 'total_transitions': 0,\n",
        " 'values': {'y3': [True, False, True, True]}}"
       ]
      },
      {
       "output_type": "display_data",
       "png": "[encoded data removed]",
       "text": [
        "<matplotlib.figure.Figure at 0x9e543cc>"
       ]
      }
     ],
     "prompt_number": 10
    },
    {
     "cell_type": "code",
     "collapsed": false,
     "input": [
      "lst = [1.,2.,3.]\n",
      "b=[type(lst[0])==type(i) for i in lst]\n",
      "print b"
     ],
     "language": "python",
     "outputs": [
      {
       "output_type": "stream",
       "stream": "stdout",
       "text": [
        "[True, True, True]\n"
       ]
      }
     ],
     "prompt_number": 46
    },
    {
     "cell_type": "code",
     "collapsed": false,
     "input": [
      "d={1:1,2:2}\n",
      "for i,j in d.items():\n",
      "    print i,j"
     ],
     "language": "python",
     "outputs": [
      {
       "output_type": "stream",
       "stream": "stdout",
       "text": [
        "1 1\n",
        "2 2\n"
       ]
      }
     ],
     "prompt_number": 47
    },
    {
     "cell_type": "code",
     "collapsed": false,
     "input": [
      "vv=make_church_prime_ripl()\n",
      "vv.predict('(> 1 2)')"
     ],
     "language": "python",
     "outputs": [
      {
       "output_type": "pyout",
       "prompt_number": 7,
       "text": [
        "False"
       ]
      }
     ],
     "prompt_number": 7
    },
    {
     "cell_type": "code",
     "collapsed": false,
     "input": [],
     "language": "python",
     "outputs": []
    }
   ]
  }
 ]
}